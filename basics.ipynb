{
 "cells": [
  {
   "cell_type": "code",
   "execution_count": 45,
   "id": "6b534dbb-7794-47e1-9bbf-d73ac6790291",
   "metadata": {},
   "outputs": [],
   "source": [
    "import numpy as np"
   ]
  },
  {
   "cell_type": "code",
   "execution_count": 61,
   "id": "6e4d55f9-6591-477f-ad8d-e75270854bd4",
   "metadata": {},
   "outputs": [
    {
     "name": "stdout",
     "output_type": "stream",
     "text": [
      "array: [ 1  2  3  4  5  6  7  8  9 10]\n"
     ]
    }
   ],
   "source": [
    "arr=np.array([1,2,3,4,5,6,7,8,9,10])\n",
    "print(\"array:\",arr)"
   ]
  },
  {
   "cell_type": "code",
   "execution_count": 6,
   "id": "2a0ed3f6-30a4-4be4-b3f0-8fe5624b239a",
   "metadata": {},
   "outputs": [
    {
     "name": "stdout",
     "output_type": "stream",
     "text": [
      "1D:\n",
      "[1 2 3 4]\n"
     ]
    }
   ],
   "source": [
    "arr1=np.array([1,2,3,4])\n",
    "print(\"1D:\")\n",
    "print(arr1)"
   ]
  },
  {
   "cell_type": "code",
   "execution_count": 28,
   "id": "a8f4a6a3-3ca0-4891-88c3-d3e6cf3a4188",
   "metadata": {},
   "outputs": [
    {
     "name": "stdout",
     "output_type": "stream",
     "text": [
      "2D:\n",
      "[[2 3 4 5]\n",
      " [1 4 8 8]]\n"
     ]
    }
   ],
   "source": [
    "arr2=np.array([[2,3,4,5],[1,4,8,8]])\n",
    "print(\"2D:\")\n",
    "print(arr2)"
   ]
  },
  {
   "cell_type": "code",
   "execution_count": 35,
   "id": "38d79105-c14e-40ba-b7a4-6fd83657f2ef",
   "metadata": {},
   "outputs": [
    {
     "name": "stdout",
     "output_type": "stream",
     "text": [
      "3D:\n",
      "[[1 2 3]\n",
      " [4 5 6]\n",
      " [7 8 9]]\n"
     ]
    }
   ],
   "source": [
    "arr3= np.array([[1,2,3],[4,5,6],[7,8,9]])\n",
    "print(\"3D:\")\n",
    "print(arr3)"
   ]
  },
  {
   "cell_type": "code",
   "execution_count": 37,
   "id": "ca491445-7f03-47e8-89c0-50734e945920",
   "metadata": {},
   "outputs": [
    {
     "name": "stdout",
     "output_type": "stream",
     "text": [
      "first element:\n",
      "1\n"
     ]
    }
   ],
   "source": [
    "#indexing\n",
    "print(\"first element:\")\n",
    "print(arr[0])"
   ]
  },
  {
   "cell_type": "code",
   "execution_count": 39,
   "id": "89c1d579-dee5-41d5-830b-914462dce2df",
   "metadata": {},
   "outputs": [
    {
     "name": "stdout",
     "output_type": "stream",
     "text": [
      "backward element:\n",
      "6\n"
     ]
    }
   ],
   "source": [
    "print(\"backward element:\")\n",
    "print(arr[-1])"
   ]
  },
  {
   "cell_type": "code",
   "execution_count": 63,
   "id": "386c2f31-b070-42e1-8901-2f38cceac4be",
   "metadata": {},
   "outputs": [
    {
     "name": "stdout",
     "output_type": "stream",
     "text": [
      "element: [1 3 5 6]\n"
     ]
    }
   ],
   "source": [
    "#advanced  indexing\n",
    "indicats=np.array([0,2,4,5])\n",
    "print(\"element:\",arr[indicats])"
   ]
  },
  {
   "cell_type": "code",
   "execution_count": 65,
   "id": "f2885427-37cd-4ff3-bd10-8d7f5422ac85",
   "metadata": {},
   "outputs": [
    {
     "name": "stdout",
     "output_type": "stream",
     "text": [
      "update array: [11  2  3  4  5  6  7  8  9 10]\n"
     ]
    }
   ],
   "source": [
    "arr[0] =11\n",
    "print(\"update array:\",arr)"
   ]
  },
  {
   "cell_type": "code",
   "execution_count": null,
   "id": "d7e4ba92-dccd-4e9e-9e2b-1a1523cc7522",
   "metadata": {},
   "outputs": [],
   "source": []
  }
 ],
 "metadata": {
  "kernelspec": {
   "display_name": "Python 3 (ipykernel)",
   "language": "python",
   "name": "python3"
  },
  "language_info": {
   "codemirror_mode": {
    "name": "ipython",
    "version": 3
   },
   "file_extension": ".py",
   "mimetype": "text/x-python",
   "name": "python",
   "nbconvert_exporter": "python",
   "pygments_lexer": "ipython3",
   "version": "3.12.4"
  }
 },
 "nbformat": 4,
 "nbformat_minor": 5
}
