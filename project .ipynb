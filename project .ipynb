{
 "cells": [
  {
   "cell_type": "code",
   "execution_count": 1,
   "id": "5c34ee24-ec2f-47f7-ad0e-d44b06fcd1e5",
   "metadata": {},
   "outputs": [],
   "source": [
    "import pandas as pd\n",
    "import numpy as np\n",
    "import matplotlib.pyplot as plt\n",
    "import seaborn as sns\n",
    "%matplotlib inline"
   ]
  },
  {
   "cell_type": "code",
   "execution_count": 353,
   "id": "6385f66a-aab1-4256-a194-4939aac0f5ce",
   "metadata": {},
   "outputs": [
    {
     "data": {
      "text/html": [
       "<div>\n",
       "<style scoped>\n",
       "    .dataframe tbody tr th:only-of-type {\n",
       "        vertical-align: middle;\n",
       "    }\n",
       "\n",
       "    .dataframe tbody tr th {\n",
       "        vertical-align: top;\n",
       "    }\n",
       "\n",
       "    .dataframe thead th {\n",
       "        text-align: right;\n",
       "    }\n",
       "</style>\n",
       "<table border=\"1\" class=\"dataframe\">\n",
       "  <thead>\n",
       "    <tr style=\"text-align: right;\">\n",
       "      <th></th>\n",
       "      <th>App</th>\n",
       "      <th>Category</th>\n",
       "      <th>Rating</th>\n",
       "      <th>Reviews</th>\n",
       "      <th>Size</th>\n",
       "      <th>Installs</th>\n",
       "      <th>Type</th>\n",
       "      <th>Price</th>\n",
       "      <th>Content Rating</th>\n",
       "      <th>Genres</th>\n",
       "      <th>Last Updated</th>\n",
       "      <th>Current Ver</th>\n",
       "      <th>Android Ver</th>\n",
       "    </tr>\n",
       "  </thead>\n",
       "  <tbody>\n",
       "    <tr>\n",
       "      <th>0</th>\n",
       "      <td>Photo Editor &amp; Candy Camera &amp; Grid &amp; ScrapBook</td>\n",
       "      <td>ART_AND_DESIGN</td>\n",
       "      <td>4.1</td>\n",
       "      <td>159</td>\n",
       "      <td>19M</td>\n",
       "      <td>10,000+</td>\n",
       "      <td>Free</td>\n",
       "      <td>0</td>\n",
       "      <td>Everyone</td>\n",
       "      <td>Art &amp; Design</td>\n",
       "      <td>January 7, 2018</td>\n",
       "      <td>1.0.0</td>\n",
       "      <td>4.0.3 and up</td>\n",
       "    </tr>\n",
       "    <tr>\n",
       "      <th>1</th>\n",
       "      <td>Coloring book moana</td>\n",
       "      <td>ART_AND_DESIGN</td>\n",
       "      <td>3.9</td>\n",
       "      <td>967</td>\n",
       "      <td>14M</td>\n",
       "      <td>500,000+</td>\n",
       "      <td>Free</td>\n",
       "      <td>0</td>\n",
       "      <td>Everyone</td>\n",
       "      <td>Art &amp; Design;Pretend Play</td>\n",
       "      <td>January 15, 2018</td>\n",
       "      <td>2.0.0</td>\n",
       "      <td>4.0.3 and up</td>\n",
       "    </tr>\n",
       "    <tr>\n",
       "      <th>2</th>\n",
       "      <td>U Launcher Lite – FREE Live Cool Themes, Hide ...</td>\n",
       "      <td>ART_AND_DESIGN</td>\n",
       "      <td>4.7</td>\n",
       "      <td>87510</td>\n",
       "      <td>8.7M</td>\n",
       "      <td>5,000,000+</td>\n",
       "      <td>Free</td>\n",
       "      <td>0</td>\n",
       "      <td>Everyone</td>\n",
       "      <td>Art &amp; Design</td>\n",
       "      <td>August 1, 2018</td>\n",
       "      <td>1.2.4</td>\n",
       "      <td>4.0.3 and up</td>\n",
       "    </tr>\n",
       "    <tr>\n",
       "      <th>3</th>\n",
       "      <td>Sketch - Draw &amp; Paint</td>\n",
       "      <td>ART_AND_DESIGN</td>\n",
       "      <td>4.5</td>\n",
       "      <td>215644</td>\n",
       "      <td>25M</td>\n",
       "      <td>50,000,000+</td>\n",
       "      <td>Free</td>\n",
       "      <td>0</td>\n",
       "      <td>Teen</td>\n",
       "      <td>Art &amp; Design</td>\n",
       "      <td>June 8, 2018</td>\n",
       "      <td>Varies with device</td>\n",
       "      <td>4.2 and up</td>\n",
       "    </tr>\n",
       "    <tr>\n",
       "      <th>4</th>\n",
       "      <td>Pixel Draw - Number Art Coloring Book</td>\n",
       "      <td>ART_AND_DESIGN</td>\n",
       "      <td>4.3</td>\n",
       "      <td>967</td>\n",
       "      <td>2.8M</td>\n",
       "      <td>100,000+</td>\n",
       "      <td>Free</td>\n",
       "      <td>0</td>\n",
       "      <td>Everyone</td>\n",
       "      <td>Art &amp; Design;Creativity</td>\n",
       "      <td>June 20, 2018</td>\n",
       "      <td>1.1</td>\n",
       "      <td>4.4 and up</td>\n",
       "    </tr>\n",
       "  </tbody>\n",
       "</table>\n",
       "</div>"
      ],
      "text/plain": [
       "                                                 App        Category  Rating  \\\n",
       "0     Photo Editor & Candy Camera & Grid & ScrapBook  ART_AND_DESIGN     4.1   \n",
       "1                                Coloring book moana  ART_AND_DESIGN     3.9   \n",
       "2  U Launcher Lite – FREE Live Cool Themes, Hide ...  ART_AND_DESIGN     4.7   \n",
       "3                              Sketch - Draw & Paint  ART_AND_DESIGN     4.5   \n",
       "4              Pixel Draw - Number Art Coloring Book  ART_AND_DESIGN     4.3   \n",
       "\n",
       "  Reviews  Size     Installs  Type Price Content Rating  \\\n",
       "0     159   19M      10,000+  Free     0       Everyone   \n",
       "1     967   14M     500,000+  Free     0       Everyone   \n",
       "2   87510  8.7M   5,000,000+  Free     0       Everyone   \n",
       "3  215644   25M  50,000,000+  Free     0           Teen   \n",
       "4     967  2.8M     100,000+  Free     0       Everyone   \n",
       "\n",
       "                      Genres      Last Updated         Current Ver  \\\n",
       "0               Art & Design   January 7, 2018               1.0.0   \n",
       "1  Art & Design;Pretend Play  January 15, 2018               2.0.0   \n",
       "2               Art & Design    August 1, 2018               1.2.4   \n",
       "3               Art & Design      June 8, 2018  Varies with device   \n",
       "4    Art & Design;Creativity     June 20, 2018                 1.1   \n",
       "\n",
       "    Android Ver  \n",
       "0  4.0.3 and up  \n",
       "1  4.0.3 and up  \n",
       "2  4.0.3 and up  \n",
       "3    4.2 and up  \n",
       "4    4.4 and up  "
      ]
     },
     "execution_count": 353,
     "metadata": {},
     "output_type": "execute_result"
    }
   ],
   "source": [
    "df= pd.read_csv(\"Google_data.csv\")\n",
    "df.head()"
   ]
  },
  {
   "cell_type": "code",
   "execution_count": 355,
   "id": "21a9474a-1228-4fce-a224-959f0740821d",
   "metadata": {},
   "outputs": [
    {
     "name": "stdout",
     "output_type": "stream",
     "text": [
      "<class 'pandas.core.frame.DataFrame'>\n",
      "RangeIndex: 10841 entries, 0 to 10840\n",
      "Data columns (total 13 columns):\n",
      " #   Column          Non-Null Count  Dtype  \n",
      "---  ------          --------------  -----  \n",
      " 0   App             10841 non-null  object \n",
      " 1   Category        10841 non-null  object \n",
      " 2   Rating          9367 non-null   float64\n",
      " 3   Reviews         10841 non-null  object \n",
      " 4   Size            10841 non-null  object \n",
      " 5   Installs        10841 non-null  object \n",
      " 6   Type            10840 non-null  object \n",
      " 7   Price           10841 non-null  object \n",
      " 8   Content Rating  10840 non-null  object \n",
      " 9   Genres          10841 non-null  object \n",
      " 10  Last Updated    10841 non-null  object \n",
      " 11  Current Ver     10833 non-null  object \n",
      " 12  Android Ver     10838 non-null  object \n",
      "dtypes: float64(1), object(12)\n",
      "memory usage: 1.1+ MB\n"
     ]
    }
   ],
   "source": [
    "df.info()"
   ]
  },
  {
   "cell_type": "code",
   "execution_count": 357,
   "id": "5b5e7806-bb5e-4d3d-969d-2d4b8a93ee6c",
   "metadata": {},
   "outputs": [
    {
     "data": {
      "text/plain": [
       "(10841, 13)"
      ]
     },
     "execution_count": 357,
     "metadata": {},
     "output_type": "execute_result"
    }
   ],
   "source": [
    "df.shape"
   ]
  },
  {
   "cell_type": "code",
   "execution_count": 359,
   "id": "6c22c2ca-b78d-4125-ab93-e83528d3e90a",
   "metadata": {},
   "outputs": [
    {
     "data": {
      "text/html": [
       "<div>\n",
       "<style scoped>\n",
       "    .dataframe tbody tr th:only-of-type {\n",
       "        vertical-align: middle;\n",
       "    }\n",
       "\n",
       "    .dataframe tbody tr th {\n",
       "        vertical-align: top;\n",
       "    }\n",
       "\n",
       "    .dataframe thead th {\n",
       "        text-align: right;\n",
       "    }\n",
       "</style>\n",
       "<table border=\"1\" class=\"dataframe\">\n",
       "  <thead>\n",
       "    <tr style=\"text-align: right;\">\n",
       "      <th></th>\n",
       "      <th>Rating</th>\n",
       "    </tr>\n",
       "  </thead>\n",
       "  <tbody>\n",
       "    <tr>\n",
       "      <th>count</th>\n",
       "      <td>9367.000000</td>\n",
       "    </tr>\n",
       "    <tr>\n",
       "      <th>mean</th>\n",
       "      <td>4.193338</td>\n",
       "    </tr>\n",
       "    <tr>\n",
       "      <th>std</th>\n",
       "      <td>0.537431</td>\n",
       "    </tr>\n",
       "    <tr>\n",
       "      <th>min</th>\n",
       "      <td>1.000000</td>\n",
       "    </tr>\n",
       "    <tr>\n",
       "      <th>25%</th>\n",
       "      <td>4.000000</td>\n",
       "    </tr>\n",
       "    <tr>\n",
       "      <th>50%</th>\n",
       "      <td>4.300000</td>\n",
       "    </tr>\n",
       "    <tr>\n",
       "      <th>75%</th>\n",
       "      <td>4.500000</td>\n",
       "    </tr>\n",
       "    <tr>\n",
       "      <th>max</th>\n",
       "      <td>19.000000</td>\n",
       "    </tr>\n",
       "  </tbody>\n",
       "</table>\n",
       "</div>"
      ],
      "text/plain": [
       "            Rating\n",
       "count  9367.000000\n",
       "mean      4.193338\n",
       "std       0.537431\n",
       "min       1.000000\n",
       "25%       4.000000\n",
       "50%       4.300000\n",
       "75%       4.500000\n",
       "max      19.000000"
      ]
     },
     "execution_count": 359,
     "metadata": {},
     "output_type": "execute_result"
    }
   ],
   "source": [
    "df.describe()"
   ]
  },
  {
   "cell_type": "code",
   "execution_count": 361,
   "id": "1577f898-d4a2-48e8-9224-01e27e00bca9",
   "metadata": {},
   "outputs": [
    {
     "data": {
      "text/plain": [
       "0"
      ]
     },
     "execution_count": 361,
     "metadata": {},
     "output_type": "execute_result"
    }
   ],
   "source": [
    "df['Size'].isnull().sum()"
   ]
  },
  {
   "cell_type": "code",
   "execution_count": 363,
   "id": "ca55ccbc-f7df-493c-ba53-5b461a266d1e",
   "metadata": {},
   "outputs": [
    {
     "data": {
      "text/plain": [
       "array(['19M', '14M', '8.7M', '25M', '2.8M', '5.6M', '29M', '33M', '3.1M',\n",
       "       '28M', '12M', '20M', '21M', '37M', '2.7M', '5.5M', '17M', '39M',\n",
       "       '31M', '4.2M', '7.0M', '23M', '6.0M', '6.1M', '4.6M', '9.2M',\n",
       "       '5.2M', '11M', '24M', 'Varies with device', '9.4M', '15M', '10M',\n",
       "       '1.2M', '26M', '8.0M', '7.9M', '56M', '57M', '35M', '54M', '201k',\n",
       "       '3.6M', '5.7M', '8.6M', '2.4M', '27M', '2.5M', '16M', '3.4M',\n",
       "       '8.9M', '3.9M', '2.9M', '38M', '32M', '5.4M', '18M', '1.1M',\n",
       "       '2.2M', '4.5M', '9.8M', '52M', '9.0M', '6.7M', '30M', '2.6M',\n",
       "       '7.1M', '3.7M', '22M', '7.4M', '6.4M', '3.2M', '8.2M', '9.9M',\n",
       "       '4.9M', '9.5M', '5.0M', '5.9M', '13M', '73M', '6.8M', '3.5M',\n",
       "       '4.0M', '2.3M', '7.2M', '2.1M', '42M', '7.3M', '9.1M', '55M',\n",
       "       '23k', '6.5M', '1.5M', '7.5M', '51M', '41M', '48M', '8.5M', '46M',\n",
       "       '8.3M', '4.3M', '4.7M', '3.3M', '40M', '7.8M', '8.8M', '6.6M',\n",
       "       '5.1M', '61M', '66M', '79k', '8.4M', '118k', '44M', '695k', '1.6M',\n",
       "       '6.2M', '18k', '53M', '1.4M', '3.0M', '5.8M', '3.8M', '9.6M',\n",
       "       '45M', '63M', '49M', '77M', '4.4M', '4.8M', '70M', '6.9M', '9.3M',\n",
       "       '10.0M', '8.1M', '36M', '84M', '97M', '2.0M', '1.9M', '1.8M',\n",
       "       '5.3M', '47M', '556k', '526k', '76M', '7.6M', '59M', '9.7M', '78M',\n",
       "       '72M', '43M', '7.7M', '6.3M', '334k', '34M', '93M', '65M', '79M',\n",
       "       '100M', '58M', '50M', '68M', '64M', '67M', '60M', '94M', '232k',\n",
       "       '99M', '624k', '95M', '8.5k', '41k', '292k', '11k', '80M', '1.7M',\n",
       "       '74M', '62M', '69M', '75M', '98M', '85M', '82M', '96M', '87M',\n",
       "       '71M', '86M', '91M', '81M', '92M', '83M', '88M', '704k', '862k',\n",
       "       '899k', '378k', '266k', '375k', '1.3M', '975k', '980k', '4.1M',\n",
       "       '89M', '696k', '544k', '525k', '920k', '779k', '853k', '720k',\n",
       "       '713k', '772k', '318k', '58k', '241k', '196k', '857k', '51k',\n",
       "       '953k', '865k', '251k', '930k', '540k', '313k', '746k', '203k',\n",
       "       '26k', '314k', '239k', '371k', '220k', '730k', '756k', '91k',\n",
       "       '293k', '17k', '74k', '14k', '317k', '78k', '924k', '902k', '818k',\n",
       "       '81k', '939k', '169k', '45k', '475k', '965k', '90M', '545k', '61k',\n",
       "       '283k', '655k', '714k', '93k', '872k', '121k', '322k', '1.0M',\n",
       "       '976k', '172k', '238k', '549k', '206k', '954k', '444k', '717k',\n",
       "       '210k', '609k', '308k', '705k', '306k', '904k', '473k', '175k',\n",
       "       '350k', '383k', '454k', '421k', '70k', '812k', '442k', '842k',\n",
       "       '417k', '412k', '459k', '478k', '335k', '782k', '721k', '430k',\n",
       "       '429k', '192k', '200k', '460k', '728k', '496k', '816k', '414k',\n",
       "       '506k', '887k', '613k', '243k', '569k', '778k', '683k', '592k',\n",
       "       '319k', '186k', '840k', '647k', '191k', '373k', '437k', '598k',\n",
       "       '716k', '585k', '982k', '222k', '219k', '55k', '948k', '323k',\n",
       "       '691k', '511k', '951k', '963k', '25k', '554k', '351k', '27k',\n",
       "       '82k', '208k', '913k', '514k', '551k', '29k', '103k', '898k',\n",
       "       '743k', '116k', '153k', '209k', '353k', '499k', '173k', '597k',\n",
       "       '809k', '122k', '411k', '400k', '801k', '787k', '237k', '50k',\n",
       "       '643k', '986k', '97k', '516k', '837k', '780k', '961k', '269k',\n",
       "       '20k', '498k', '600k', '749k', '642k', '881k', '72k', '656k',\n",
       "       '601k', '221k', '228k', '108k', '940k', '176k', '33k', '663k',\n",
       "       '34k', '942k', '259k', '164k', '458k', '245k', '629k', '28k',\n",
       "       '288k', '775k', '785k', '636k', '916k', '994k', '309k', '485k',\n",
       "       '914k', '903k', '608k', '500k', '54k', '562k', '847k', '957k',\n",
       "       '688k', '811k', '270k', '48k', '329k', '523k', '921k', '874k',\n",
       "       '981k', '784k', '280k', '24k', '518k', '754k', '892k', '154k',\n",
       "       '860k', '364k', '387k', '626k', '161k', '879k', '39k', '970k',\n",
       "       '170k', '141k', '160k', '144k', '143k', '190k', '376k', '193k',\n",
       "       '246k', '73k', '658k', '992k', '253k', '420k', '404k', '1,000+',\n",
       "       '470k', '226k', '240k', '89k', '234k', '257k', '861k', '467k',\n",
       "       '157k', '44k', '676k', '67k', '552k', '885k', '1020k', '582k',\n",
       "       '619k'], dtype=object)"
      ]
     },
     "execution_count": 363,
     "metadata": {},
     "output_type": "execute_result"
    }
   ],
   "source": [
    "df['Size'].unique()"
   ]
  },
  {
   "cell_type": "code",
   "execution_count": 365,
   "id": "8f84709b-4e66-4520-9004-61c9d5e27e7a",
   "metadata": {},
   "outputs": [
    {
     "data": {
      "text/plain": [
       "8829"
      ]
     },
     "execution_count": 365,
     "metadata": {},
     "output_type": "execute_result"
    }
   ],
   "source": [
    "df['Size'].loc[df['Size'].str.contains('M')].value_counts().sum()"
   ]
  },
  {
   "cell_type": "code",
   "execution_count": 367,
   "id": "5a03e1d7-a3ed-4ee7-8843-95c27417b3ce",
   "metadata": {},
   "outputs": [
    {
     "data": {
      "text/plain": [
       "316"
      ]
     },
     "execution_count": 367,
     "metadata": {},
     "output_type": "execute_result"
    }
   ],
   "source": [
    "df['Size'].loc[df['Size'].str.contains('k')].value_counts().sum()"
   ]
  },
  {
   "cell_type": "code",
   "execution_count": 373,
   "id": "0d7790c8-87e4-4e9e-bf0b-6dca3ffa2a0e",
   "metadata": {},
   "outputs": [
    {
     "data": {
      "text/plain": [
       "1695"
      ]
     },
     "execution_count": 373,
     "metadata": {},
     "output_type": "execute_result"
    }
   ],
   "source": [
    "df['Size'].loc[df['Size'].str.contains('Varies with device')].value_counts().sum()"
   ]
  },
  {
   "cell_type": "code",
   "execution_count": 375,
   "id": "0542c7ba-039e-4b94-86ab-2354c48c7189",
   "metadata": {},
   "outputs": [
    {
     "data": {
      "text/plain": [
       "10841"
      ]
     },
     "execution_count": 375,
     "metadata": {},
     "output_type": "execute_result"
    }
   ],
   "source": [
    "df['Size'].value_counts().sum()"
   ]
  },
  {
   "cell_type": "code",
   "execution_count": 377,
   "id": "96240216-2903-46dc-958b-76032cd8d224",
   "metadata": {},
   "outputs": [
    {
     "data": {
      "text/plain": [
       "10841"
      ]
     },
     "execution_count": 377,
     "metadata": {},
     "output_type": "execute_result"
    }
   ],
   "source": [
    "8830+316+1695"
   ]
  },
  {
   "cell_type": "code",
   "execution_count": 379,
   "id": "0129af4a-943d-4e20-955e-a449894a5466",
   "metadata": {},
   "outputs": [],
   "source": [
    "def convert_size(size):\n",
    "    '''This function will convert the size cloumn to numeric by mltiplying the values with 1024\n",
    "    if it has 'k' in it and 1024 if it has 'M' in it.'''\n",
    "    if isinstance(size,str):\n",
    "        if 'k' in size:\n",
    "            return float(size.replace('k','')) * 1024\n",
    "        elif 'M' in size:\n",
    "            return float(size.replace('M','')) * 1024 * 1024\n",
    "        elif 'Varies with device' in size:\n",
    "            return np.nan\n",
    "        return(size)"
   ]
  },
  {
   "cell_type": "code",
   "execution_count": 381,
   "id": "79084ea4-fbf8-49b2-b72e-95ba0aa41dfd",
   "metadata": {},
   "outputs": [
    {
     "data": {
      "text/html": [
       "<div>\n",
       "<style scoped>\n",
       "    .dataframe tbody tr th:only-of-type {\n",
       "        vertical-align: middle;\n",
       "    }\n",
       "\n",
       "    .dataframe tbody tr th {\n",
       "        vertical-align: top;\n",
       "    }\n",
       "\n",
       "    .dataframe thead th {\n",
       "        text-align: right;\n",
       "    }\n",
       "</style>\n",
       "<table border=\"1\" class=\"dataframe\">\n",
       "  <thead>\n",
       "    <tr style=\"text-align: right;\">\n",
       "      <th></th>\n",
       "      <th>App</th>\n",
       "      <th>Category</th>\n",
       "      <th>Rating</th>\n",
       "      <th>Reviews</th>\n",
       "      <th>Size</th>\n",
       "      <th>Installs</th>\n",
       "      <th>Type</th>\n",
       "      <th>Price</th>\n",
       "      <th>Content Rating</th>\n",
       "      <th>Genres</th>\n",
       "      <th>Last Updated</th>\n",
       "      <th>Current Ver</th>\n",
       "      <th>Android Ver</th>\n",
       "    </tr>\n",
       "  </thead>\n",
       "  <tbody>\n",
       "    <tr>\n",
       "      <th>0</th>\n",
       "      <td>Photo Editor &amp; Candy Camera &amp; Grid &amp; ScrapBook</td>\n",
       "      <td>ART_AND_DESIGN</td>\n",
       "      <td>4.1</td>\n",
       "      <td>159</td>\n",
       "      <td>19M</td>\n",
       "      <td>10,000+</td>\n",
       "      <td>Free</td>\n",
       "      <td>0</td>\n",
       "      <td>Everyone</td>\n",
       "      <td>Art &amp; Design</td>\n",
       "      <td>January 7, 2018</td>\n",
       "      <td>1.0.0</td>\n",
       "      <td>4.0.3 and up</td>\n",
       "    </tr>\n",
       "    <tr>\n",
       "      <th>1</th>\n",
       "      <td>Coloring book moana</td>\n",
       "      <td>ART_AND_DESIGN</td>\n",
       "      <td>3.9</td>\n",
       "      <td>967</td>\n",
       "      <td>14M</td>\n",
       "      <td>500,000+</td>\n",
       "      <td>Free</td>\n",
       "      <td>0</td>\n",
       "      <td>Everyone</td>\n",
       "      <td>Art &amp; Design;Pretend Play</td>\n",
       "      <td>January 15, 2018</td>\n",
       "      <td>2.0.0</td>\n",
       "      <td>4.0.3 and up</td>\n",
       "    </tr>\n",
       "    <tr>\n",
       "      <th>2</th>\n",
       "      <td>U Launcher Lite – FREE Live Cool Themes, Hide ...</td>\n",
       "      <td>ART_AND_DESIGN</td>\n",
       "      <td>4.7</td>\n",
       "      <td>87510</td>\n",
       "      <td>8.7M</td>\n",
       "      <td>5,000,000+</td>\n",
       "      <td>Free</td>\n",
       "      <td>0</td>\n",
       "      <td>Everyone</td>\n",
       "      <td>Art &amp; Design</td>\n",
       "      <td>August 1, 2018</td>\n",
       "      <td>1.2.4</td>\n",
       "      <td>4.0.3 and up</td>\n",
       "    </tr>\n",
       "    <tr>\n",
       "      <th>3</th>\n",
       "      <td>Sketch - Draw &amp; Paint</td>\n",
       "      <td>ART_AND_DESIGN</td>\n",
       "      <td>4.5</td>\n",
       "      <td>215644</td>\n",
       "      <td>25M</td>\n",
       "      <td>50,000,000+</td>\n",
       "      <td>Free</td>\n",
       "      <td>0</td>\n",
       "      <td>Teen</td>\n",
       "      <td>Art &amp; Design</td>\n",
       "      <td>June 8, 2018</td>\n",
       "      <td>Varies with device</td>\n",
       "      <td>4.2 and up</td>\n",
       "    </tr>\n",
       "    <tr>\n",
       "      <th>4</th>\n",
       "      <td>Pixel Draw - Number Art Coloring Book</td>\n",
       "      <td>ART_AND_DESIGN</td>\n",
       "      <td>4.3</td>\n",
       "      <td>967</td>\n",
       "      <td>2.8M</td>\n",
       "      <td>100,000+</td>\n",
       "      <td>Free</td>\n",
       "      <td>0</td>\n",
       "      <td>Everyone</td>\n",
       "      <td>Art &amp; Design;Creativity</td>\n",
       "      <td>June 20, 2018</td>\n",
       "      <td>1.1</td>\n",
       "      <td>4.4 and up</td>\n",
       "    </tr>\n",
       "  </tbody>\n",
       "</table>\n",
       "</div>"
      ],
      "text/plain": [
       "                                                 App        Category  Rating  \\\n",
       "0     Photo Editor & Candy Camera & Grid & ScrapBook  ART_AND_DESIGN     4.1   \n",
       "1                                Coloring book moana  ART_AND_DESIGN     3.9   \n",
       "2  U Launcher Lite – FREE Live Cool Themes, Hide ...  ART_AND_DESIGN     4.7   \n",
       "3                              Sketch - Draw & Paint  ART_AND_DESIGN     4.5   \n",
       "4              Pixel Draw - Number Art Coloring Book  ART_AND_DESIGN     4.3   \n",
       "\n",
       "  Reviews  Size     Installs  Type Price Content Rating  \\\n",
       "0     159   19M      10,000+  Free     0       Everyone   \n",
       "1     967   14M     500,000+  Free     0       Everyone   \n",
       "2   87510  8.7M   5,000,000+  Free     0       Everyone   \n",
       "3  215644   25M  50,000,000+  Free     0           Teen   \n",
       "4     967  2.8M     100,000+  Free     0       Everyone   \n",
       "\n",
       "                      Genres      Last Updated         Current Ver  \\\n",
       "0               Art & Design   January 7, 2018               1.0.0   \n",
       "1  Art & Design;Pretend Play  January 15, 2018               2.0.0   \n",
       "2               Art & Design    August 1, 2018               1.2.4   \n",
       "3               Art & Design      June 8, 2018  Varies with device   \n",
       "4    Art & Design;Creativity     June 20, 2018                 1.1   \n",
       "\n",
       "    Android Ver  \n",
       "0  4.0.3 and up  \n",
       "1  4.0.3 and up  \n",
       "2  4.0.3 and up  \n",
       "3    4.2 and up  \n",
       "4    4.4 and up  "
      ]
     },
     "execution_count": 381,
     "metadata": {},
     "output_type": "execute_result"
    }
   ],
   "source": [
    "df.head()"
   ]
  },
  {
   "cell_type": "code",
   "execution_count": 383,
   "id": "42c7ca87-ff1c-466d-95dc-8bd54f0f0386",
   "metadata": {},
   "outputs": [
    {
     "name": "stdout",
     "output_type": "stream",
     "text": [
      "<class 'pandas.core.frame.DataFrame'>\n",
      "RangeIndex: 10841 entries, 0 to 10840\n",
      "Data columns (total 13 columns):\n",
      " #   Column          Non-Null Count  Dtype  \n",
      "---  ------          --------------  -----  \n",
      " 0   App             10841 non-null  object \n",
      " 1   Category        10841 non-null  object \n",
      " 2   Rating          9367 non-null   float64\n",
      " 3   Reviews         10841 non-null  object \n",
      " 4   Size            10841 non-null  object \n",
      " 5   Installs        10841 non-null  object \n",
      " 6   Type            10840 non-null  object \n",
      " 7   Price           10841 non-null  object \n",
      " 8   Content Rating  10840 non-null  object \n",
      " 9   Genres          10841 non-null  object \n",
      " 10  Last Updated    10841 non-null  object \n",
      " 11  Current Ver     10833 non-null  object \n",
      " 12  Android Ver     10838 non-null  object \n",
      "dtypes: float64(1), object(12)\n",
      "memory usage: 1.1+ MB\n"
     ]
    }
   ],
   "source": [
    "df.info()"
   ]
  },
  {
   "cell_type": "code",
   "execution_count": 391,
   "id": "22a78f22-2ce9-49cd-8254-11587524cd61",
   "metadata": {},
   "outputs": [],
   "source": [
    "df.rename(columns={'Size' : 'Size_in_bytes'}, inplace=True)"
   ]
  },
  {
   "cell_type": "code",
   "execution_count": 393,
   "id": "428b4a73-24a9-4fed-be08-01651b4f6a03",
   "metadata": {},
   "outputs": [
    {
     "data": {
      "text/html": [
       "<div>\n",
       "<style scoped>\n",
       "    .dataframe tbody tr th:only-of-type {\n",
       "        vertical-align: middle;\n",
       "    }\n",
       "\n",
       "    .dataframe tbody tr th {\n",
       "        vertical-align: top;\n",
       "    }\n",
       "\n",
       "    .dataframe thead th {\n",
       "        text-align: right;\n",
       "    }\n",
       "</style>\n",
       "<table border=\"1\" class=\"dataframe\">\n",
       "  <thead>\n",
       "    <tr style=\"text-align: right;\">\n",
       "      <th></th>\n",
       "      <th>App</th>\n",
       "      <th>Category</th>\n",
       "      <th>Rating</th>\n",
       "      <th>Reviews</th>\n",
       "      <th>Size_in_bytes</th>\n",
       "      <th>Installs</th>\n",
       "      <th>Type</th>\n",
       "      <th>Price</th>\n",
       "      <th>Content Rating</th>\n",
       "      <th>Genres</th>\n",
       "      <th>Last Updated</th>\n",
       "      <th>Current Ver</th>\n",
       "      <th>Android Ver</th>\n",
       "    </tr>\n",
       "  </thead>\n",
       "  <tbody>\n",
       "    <tr>\n",
       "      <th>0</th>\n",
       "      <td>Photo Editor &amp; Candy Camera &amp; Grid &amp; ScrapBook</td>\n",
       "      <td>ART_AND_DESIGN</td>\n",
       "      <td>4.1</td>\n",
       "      <td>159</td>\n",
       "      <td>19M</td>\n",
       "      <td>10,000+</td>\n",
       "      <td>Free</td>\n",
       "      <td>0</td>\n",
       "      <td>Everyone</td>\n",
       "      <td>Art &amp; Design</td>\n",
       "      <td>January 7, 2018</td>\n",
       "      <td>1.0.0</td>\n",
       "      <td>4.0.3 and up</td>\n",
       "    </tr>\n",
       "    <tr>\n",
       "      <th>1</th>\n",
       "      <td>Coloring book moana</td>\n",
       "      <td>ART_AND_DESIGN</td>\n",
       "      <td>3.9</td>\n",
       "      <td>967</td>\n",
       "      <td>14M</td>\n",
       "      <td>500,000+</td>\n",
       "      <td>Free</td>\n",
       "      <td>0</td>\n",
       "      <td>Everyone</td>\n",
       "      <td>Art &amp; Design;Pretend Play</td>\n",
       "      <td>January 15, 2018</td>\n",
       "      <td>2.0.0</td>\n",
       "      <td>4.0.3 and up</td>\n",
       "    </tr>\n",
       "    <tr>\n",
       "      <th>2</th>\n",
       "      <td>U Launcher Lite – FREE Live Cool Themes, Hide ...</td>\n",
       "      <td>ART_AND_DESIGN</td>\n",
       "      <td>4.7</td>\n",
       "      <td>87510</td>\n",
       "      <td>8.7M</td>\n",
       "      <td>5,000,000+</td>\n",
       "      <td>Free</td>\n",
       "      <td>0</td>\n",
       "      <td>Everyone</td>\n",
       "      <td>Art &amp; Design</td>\n",
       "      <td>August 1, 2018</td>\n",
       "      <td>1.2.4</td>\n",
       "      <td>4.0.3 and up</td>\n",
       "    </tr>\n",
       "    <tr>\n",
       "      <th>3</th>\n",
       "      <td>Sketch - Draw &amp; Paint</td>\n",
       "      <td>ART_AND_DESIGN</td>\n",
       "      <td>4.5</td>\n",
       "      <td>215644</td>\n",
       "      <td>25M</td>\n",
       "      <td>50,000,000+</td>\n",
       "      <td>Free</td>\n",
       "      <td>0</td>\n",
       "      <td>Teen</td>\n",
       "      <td>Art &amp; Design</td>\n",
       "      <td>June 8, 2018</td>\n",
       "      <td>Varies with device</td>\n",
       "      <td>4.2 and up</td>\n",
       "    </tr>\n",
       "    <tr>\n",
       "      <th>4</th>\n",
       "      <td>Pixel Draw - Number Art Coloring Book</td>\n",
       "      <td>ART_AND_DESIGN</td>\n",
       "      <td>4.3</td>\n",
       "      <td>967</td>\n",
       "      <td>2.8M</td>\n",
       "      <td>100,000+</td>\n",
       "      <td>Free</td>\n",
       "      <td>0</td>\n",
       "      <td>Everyone</td>\n",
       "      <td>Art &amp; Design;Creativity</td>\n",
       "      <td>June 20, 2018</td>\n",
       "      <td>1.1</td>\n",
       "      <td>4.4 and up</td>\n",
       "    </tr>\n",
       "  </tbody>\n",
       "</table>\n",
       "</div>"
      ],
      "text/plain": [
       "                                                 App        Category  Rating  \\\n",
       "0     Photo Editor & Candy Camera & Grid & ScrapBook  ART_AND_DESIGN     4.1   \n",
       "1                                Coloring book moana  ART_AND_DESIGN     3.9   \n",
       "2  U Launcher Lite – FREE Live Cool Themes, Hide ...  ART_AND_DESIGN     4.7   \n",
       "3                              Sketch - Draw & Paint  ART_AND_DESIGN     4.5   \n",
       "4              Pixel Draw - Number Art Coloring Book  ART_AND_DESIGN     4.3   \n",
       "\n",
       "  Reviews Size_in_bytes     Installs  Type Price Content Rating  \\\n",
       "0     159           19M      10,000+  Free     0       Everyone   \n",
       "1     967           14M     500,000+  Free     0       Everyone   \n",
       "2   87510          8.7M   5,000,000+  Free     0       Everyone   \n",
       "3  215644           25M  50,000,000+  Free     0           Teen   \n",
       "4     967          2.8M     100,000+  Free     0       Everyone   \n",
       "\n",
       "                      Genres      Last Updated         Current Ver  \\\n",
       "0               Art & Design   January 7, 2018               1.0.0   \n",
       "1  Art & Design;Pretend Play  January 15, 2018               2.0.0   \n",
       "2               Art & Design    August 1, 2018               1.2.4   \n",
       "3               Art & Design      June 8, 2018  Varies with device   \n",
       "4    Art & Design;Creativity     June 20, 2018                 1.1   \n",
       "\n",
       "    Android Ver  \n",
       "0  4.0.3 and up  \n",
       "1  4.0.3 and up  \n",
       "2  4.0.3 and up  \n",
       "3    4.2 and up  \n",
       "4    4.4 and up  "
      ]
     },
     "execution_count": 393,
     "metadata": {},
     "output_type": "execute_result"
    }
   ],
   "source": [
    "df.head()"
   ]
  },
  {
   "cell_type": "code",
   "execution_count": 395,
   "id": "02ef9f21-4cd9-4425-9107-d1e9407928ac",
   "metadata": {},
   "outputs": [
    {
     "data": {
      "text/plain": [
       "dtype('O')"
      ]
     },
     "execution_count": 395,
     "metadata": {},
     "output_type": "execute_result"
    }
   ],
   "source": [
    "df['Size_in_bytes'].dtype"
   ]
  },
  {
   "cell_type": "code",
   "execution_count": 397,
   "id": "35c95fd8-2bd1-46f3-a4a2-709e80f6465f",
   "metadata": {},
   "outputs": [],
   "source": [
    "df['Size_in_bytes'] = pd.to_numeric(df['Size_in_bytes'], errors='coerce')"
   ]
  },
  {
   "cell_type": "code",
   "execution_count": 399,
   "id": "667cc8a7-08cd-4bc9-b44f-19f8232a37bc",
   "metadata": {},
   "outputs": [],
   "source": [
    "df['Size_in_Mb'] = df['Size_in_bytes'] / (1024 * 1024)"
   ]
  },
  {
   "cell_type": "code",
   "execution_count": 401,
   "id": "5c433342-a9a6-43ff-9f66-f8e6c87f5e63",
   "metadata": {},
   "outputs": [],
   "source": [
    "df['Size_in_kb'] = df['Size_in_bytes'].apply(lambda x : x/(1024))"
   ]
  },
  {
   "cell_type": "code",
   "execution_count": 403,
   "id": "5c8b43ed-7b81-45c1-acd8-781ea7d86d31",
   "metadata": {},
   "outputs": [
    {
     "data": {
      "text/plain": [
       "array(['10,000+', '500,000+', '5,000,000+', '50,000,000+', '100,000+',\n",
       "       '50,000+', '1,000,000+', '10,000,000+', '5,000+', '100,000,000+',\n",
       "       '1,000,000,000+', '1,000+', '500,000,000+', '50+', '100+', '500+',\n",
       "       '10+', '1+', '5+', '0+', '0', 'Free'], dtype=object)"
      ]
     },
     "execution_count": 403,
     "metadata": {},
     "output_type": "execute_result"
    }
   ],
   "source": [
    "df['Installs'].unique()"
   ]
  },
  {
   "cell_type": "code",
   "execution_count": 405,
   "id": "a3a33aab-cd97-44f4-88fa-a4007dd52a62",
   "metadata": {},
   "outputs": [
    {
     "data": {
      "text/plain": [
       "Installs\n",
       "1,000,000+        1579\n",
       "10,000,000+       1252\n",
       "100,000+          1169\n",
       "10,000+           1054\n",
       "1,000+             907\n",
       "5,000,000+         752\n",
       "100+               719\n",
       "500,000+           539\n",
       "50,000+            479\n",
       "5,000+             477\n",
       "100,000,000+       409\n",
       "10+                386\n",
       "500+               330\n",
       "50,000,000+        289\n",
       "50+                205\n",
       "5+                  82\n",
       "500,000,000+        72\n",
       "1+                  67\n",
       "1,000,000,000+      58\n",
       "0+                  14\n",
       "0                    1\n",
       "Free                 1\n",
       "Name: count, dtype: int64"
      ]
     },
     "execution_count": 405,
     "metadata": {},
     "output_type": "execute_result"
    }
   ],
   "source": [
    "df['Installs'].value_counts()"
   ]
  },
  {
   "cell_type": "code",
   "execution_count": 407,
   "id": "55f2b681-e76f-44b4-ba87-abc87da13a6c",
   "metadata": {},
   "outputs": [
    {
     "name": "stderr",
     "output_type": "stream",
     "text": [
      "<>:1: SyntaxWarning: invalid escape sequence '\\+'\n",
      "<>:1: SyntaxWarning: invalid escape sequence '\\+'\n",
      "C:\\Users\\abish\\AppData\\Local\\Temp\\ipykernel_12156\\2827484067.py:1: SyntaxWarning: invalid escape sequence '\\+'\n",
      "  df['Installs'].loc[df['Installs'].str.contains('\\+')].value_counts().sum()\n"
     ]
    },
    {
     "data": {
      "text/plain": [
       "10839"
      ]
     },
     "execution_count": 407,
     "metadata": {},
     "output_type": "execute_result"
    }
   ],
   "source": [
    "df['Installs'].loc[df['Installs'].str.contains('\\+')].value_counts().sum()"
   ]
  },
  {
   "cell_type": "code",
   "execution_count": 409,
   "id": "93868534-e2e7-406e-8b26-c7408a942fe9",
   "metadata": {},
   "outputs": [
    {
     "data": {
      "text/plain": [
       "10841"
      ]
     },
     "execution_count": 409,
     "metadata": {},
     "output_type": "execute_result"
    }
   ],
   "source": [
    "df['Installs'].value_counts().sum()"
   ]
  },
  {
   "cell_type": "code",
   "execution_count": 411,
   "id": "70fbdc30-df98-4eef-8b1f-953e67ec4b37",
   "metadata": {},
   "outputs": [
    {
     "data": {
      "text/plain": [
       "array(['10,000+', '500,000+', '5,000,000+', '50,000,000+', '100,000+',\n",
       "       '50,000+', '1,000,000+', '10,000,000+', '5,000+', '100,000,000+',\n",
       "       '1,000,000,000+', '1,000+', '500,000,000+', '50+', '100+', '500+',\n",
       "       '10+', '1+', '5+', '0+', '0', 'Free'], dtype=object)"
      ]
     },
     "execution_count": 411,
     "metadata": {},
     "output_type": "execute_result"
    }
   ],
   "source": [
    "df['Installs'].unique()"
   ]
  },
  {
   "cell_type": "code",
   "execution_count": 415,
   "id": "f4b43d26-e107-4a74-a7a0-a33aff2e52a0",
   "metadata": {},
   "outputs": [
    {
     "name": "stdout",
     "output_type": "stream",
     "text": [
      "object\n",
      "['10,000+' '500,000+' '5,000,000+' '50,000,000+' '100,000+' '50,000+'\n",
      " '1,000,000+' '10,000,000+' '5,000+' '100,000,000+' '1,000,000,000+'\n",
      " '1,000+' '500,000,000+' '50+' '100+' '500+' '10+' '1+' '5+' '0+' '0'\n",
      " 'Free']\n"
     ]
    }
   ],
   "source": [
    "print(df['Installs'].dtype)\n",
    "print(df['Installs'].unique())"
   ]
  },
  {
   "cell_type": "code",
   "execution_count": 417,
   "id": "25ce82b3-db4a-43aa-b534-04064ffc2178",
   "metadata": {},
   "outputs": [
    {
     "name": "stdout",
     "output_type": "stream",
     "text": [
      "<class 'pandas.core.frame.DataFrame'>\n",
      "RangeIndex: 10841 entries, 0 to 10840\n",
      "Data columns (total 15 columns):\n",
      " #   Column          Non-Null Count  Dtype  \n",
      "---  ------          --------------  -----  \n",
      " 0   App             10841 non-null  object \n",
      " 1   Category        10841 non-null  object \n",
      " 2   Rating          9367 non-null   float64\n",
      " 3   Reviews         10841 non-null  object \n",
      " 4   Size_in_bytes   0 non-null      float64\n",
      " 5   Installs        10841 non-null  object \n",
      " 6   Type            10840 non-null  object \n",
      " 7   Price           10841 non-null  object \n",
      " 8   Content Rating  10840 non-null  object \n",
      " 9   Genres          10841 non-null  object \n",
      " 10  Last Updated    10841 non-null  object \n",
      " 11  Current Ver     10833 non-null  object \n",
      " 12  Android Ver     10838 non-null  object \n",
      " 13  Size_in_Mb      0 non-null      float64\n",
      " 14  Size_in_kb      0 non-null      float64\n",
      "dtypes: float64(4), object(11)\n",
      "memory usage: 1.2+ MB\n"
     ]
    }
   ],
   "source": [
    "df.info()"
   ]
  },
  {
   "cell_type": "code",
   "execution_count": 431,
   "id": "92ec7e4f-2632-46b7-94e4-bcfebea0c0b9",
   "metadata": {},
   "outputs": [],
   "source": [
    "import re \n",
    "# convert 'Installs' column to string type\n",
    "df['Installs'] = df['Installs'].astype(str)\n",
    "\n",
    "#Remove non-numeric values ('Free') from the 'Installs' column\n",
    "df['Installs'] = df['Installs'].apply(lambda x:x.replace('Free','0') if 'Free' in x else x)\n",
    "\n",
    "#Remove the '+' character from the values\n",
    "df['Installs'] = df['Installs'].apply(lambda x:x.replace('+',''))\n",
    "\n",
    "#remove commas from the 'Installs' values\n",
    "df['Installs'] = df['Installs'].str.replace(',','')\n",
    "\n",
    "#convert 'Installs' values to itngers\n",
    "df['Installs'] = df['Installs'].astype(int)"
   ]
  },
  {
   "cell_type": "code",
   "execution_count": 438,
   "id": "93ec0b2f-1489-488b-842b-82dc34869ccf",
   "metadata": {},
   "outputs": [],
   "source": [
    "#removing + from Install's values\n",
    "df['Installs'] = df['Installs'].apply(lambda x: x.replace('+','') if '+' in str(x) else x)\n",
    "#removing , from Install's values\n",
    "df['Installs'] = df['Installs'].apply(lambda x: x.replace(',','') if ',' in str(x) else x)\n",
    "#converting Installs values to int\n",
    "df['Installs'] = df['Installs'].apply(lambda x: int(x))"
   ]
  },
  {
   "cell_type": "code",
   "execution_count": 442,
   "id": "a1dcfb10-b409-404e-a793-dcaa7323a7c1",
   "metadata": {},
   "outputs": [
    {
     "name": "stdout",
     "output_type": "stream",
     "text": [
      "<class 'pandas.core.frame.DataFrame'>\n",
      "RangeIndex: 10841 entries, 0 to 10840\n",
      "Data columns (total 15 columns):\n",
      " #   Column          Non-Null Count  Dtype  \n",
      "---  ------          --------------  -----  \n",
      " 0   App             10841 non-null  object \n",
      " 1   Category        10841 non-null  object \n",
      " 2   Rating          9367 non-null   float64\n",
      " 3   Reviews         10841 non-null  object \n",
      " 4   Size_in_bytes   0 non-null      float64\n",
      " 5   Installs        10841 non-null  int64  \n",
      " 6   Type            10840 non-null  object \n",
      " 7   Price           10841 non-null  object \n",
      " 8   Content Rating  10840 non-null  object \n",
      " 9   Genres          10841 non-null  object \n",
      " 10  Last Updated    10841 non-null  object \n",
      " 11  Current Ver     10833 non-null  object \n",
      " 12  Android Ver     10838 non-null  object \n",
      " 13  Size_in_Mb      0 non-null      float64\n",
      " 14  Size_in_kb      0 non-null      float64\n",
      "dtypes: float64(4), int64(1), object(10)\n",
      "memory usage: 1.2+ MB\n"
     ]
    }
   ],
   "source": [
    "df.info()"
   ]
  },
  {
   "cell_type": "code",
   "execution_count": 444,
   "id": "ec584885-eb69-4f6e-8cda-447afeeb8f9f",
   "metadata": {},
   "outputs": [
    {
     "data": {
      "text/plain": [
       "Installs\n",
       "1000000       1579\n",
       "10000000      1252\n",
       "100000        1169\n",
       "10000         1054\n",
       "1000           907\n",
       "5000000        752\n",
       "100            719\n",
       "500000         539\n",
       "50000          479\n",
       "5000           477\n",
       "100000000      409\n",
       "10             386\n",
       "500            330\n",
       "50000000       289\n",
       "50             205\n",
       "5               82\n",
       "500000000       72\n",
       "1               67\n",
       "1000000000      58\n",
       "0               16\n",
       "Name: count, dtype: int64"
      ]
     },
     "execution_count": 444,
     "metadata": {},
     "output_type": "execute_result"
    }
   ],
   "source": [
    "df['Installs'].value_counts()"
   ]
  },
  {
   "cell_type": "code",
   "execution_count": 446,
   "id": "3b8d56af-9574-4761-a74b-86b8581e5a33",
   "metadata": {},
   "outputs": [
    {
     "data": {
      "text/html": [
       "<div>\n",
       "<style scoped>\n",
       "    .dataframe tbody tr th:only-of-type {\n",
       "        vertical-align: middle;\n",
       "    }\n",
       "\n",
       "    .dataframe tbody tr th {\n",
       "        vertical-align: top;\n",
       "    }\n",
       "\n",
       "    .dataframe thead th {\n",
       "        text-align: right;\n",
       "    }\n",
       "</style>\n",
       "<table border=\"1\" class=\"dataframe\">\n",
       "  <thead>\n",
       "    <tr style=\"text-align: right;\">\n",
       "      <th></th>\n",
       "      <th>App</th>\n",
       "      <th>Category</th>\n",
       "      <th>Rating</th>\n",
       "      <th>Reviews</th>\n",
       "      <th>Size_in_bytes</th>\n",
       "      <th>Installs</th>\n",
       "      <th>Type</th>\n",
       "      <th>Price</th>\n",
       "      <th>Content Rating</th>\n",
       "      <th>Genres</th>\n",
       "      <th>Last Updated</th>\n",
       "      <th>Current Ver</th>\n",
       "      <th>Android Ver</th>\n",
       "      <th>Size_in_Mb</th>\n",
       "      <th>Size_in_kb</th>\n",
       "    </tr>\n",
       "  </thead>\n",
       "  <tbody>\n",
       "    <tr>\n",
       "      <th>0</th>\n",
       "      <td>Photo Editor &amp; Candy Camera &amp; Grid &amp; ScrapBook</td>\n",
       "      <td>ART_AND_DESIGN</td>\n",
       "      <td>4.1</td>\n",
       "      <td>159</td>\n",
       "      <td>NaN</td>\n",
       "      <td>10000</td>\n",
       "      <td>Free</td>\n",
       "      <td>0</td>\n",
       "      <td>Everyone</td>\n",
       "      <td>Art &amp; Design</td>\n",
       "      <td>January 7, 2018</td>\n",
       "      <td>1.0.0</td>\n",
       "      <td>4.0.3 and up</td>\n",
       "      <td>NaN</td>\n",
       "      <td>NaN</td>\n",
       "    </tr>\n",
       "    <tr>\n",
       "      <th>1</th>\n",
       "      <td>Coloring book moana</td>\n",
       "      <td>ART_AND_DESIGN</td>\n",
       "      <td>3.9</td>\n",
       "      <td>967</td>\n",
       "      <td>NaN</td>\n",
       "      <td>500000</td>\n",
       "      <td>Free</td>\n",
       "      <td>0</td>\n",
       "      <td>Everyone</td>\n",
       "      <td>Art &amp; Design;Pretend Play</td>\n",
       "      <td>January 15, 2018</td>\n",
       "      <td>2.0.0</td>\n",
       "      <td>4.0.3 and up</td>\n",
       "      <td>NaN</td>\n",
       "      <td>NaN</td>\n",
       "    </tr>\n",
       "    <tr>\n",
       "      <th>2</th>\n",
       "      <td>U Launcher Lite – FREE Live Cool Themes, Hide ...</td>\n",
       "      <td>ART_AND_DESIGN</td>\n",
       "      <td>4.7</td>\n",
       "      <td>87510</td>\n",
       "      <td>NaN</td>\n",
       "      <td>5000000</td>\n",
       "      <td>Free</td>\n",
       "      <td>0</td>\n",
       "      <td>Everyone</td>\n",
       "      <td>Art &amp; Design</td>\n",
       "      <td>August 1, 2018</td>\n",
       "      <td>1.2.4</td>\n",
       "      <td>4.0.3 and up</td>\n",
       "      <td>NaN</td>\n",
       "      <td>NaN</td>\n",
       "    </tr>\n",
       "    <tr>\n",
       "      <th>3</th>\n",
       "      <td>Sketch - Draw &amp; Paint</td>\n",
       "      <td>ART_AND_DESIGN</td>\n",
       "      <td>4.5</td>\n",
       "      <td>215644</td>\n",
       "      <td>NaN</td>\n",
       "      <td>50000000</td>\n",
       "      <td>Free</td>\n",
       "      <td>0</td>\n",
       "      <td>Teen</td>\n",
       "      <td>Art &amp; Design</td>\n",
       "      <td>June 8, 2018</td>\n",
       "      <td>Varies with device</td>\n",
       "      <td>4.2 and up</td>\n",
       "      <td>NaN</td>\n",
       "      <td>NaN</td>\n",
       "    </tr>\n",
       "    <tr>\n",
       "      <th>4</th>\n",
       "      <td>Pixel Draw - Number Art Coloring Book</td>\n",
       "      <td>ART_AND_DESIGN</td>\n",
       "      <td>4.3</td>\n",
       "      <td>967</td>\n",
       "      <td>NaN</td>\n",
       "      <td>100000</td>\n",
       "      <td>Free</td>\n",
       "      <td>0</td>\n",
       "      <td>Everyone</td>\n",
       "      <td>Art &amp; Design;Creativity</td>\n",
       "      <td>June 20, 2018</td>\n",
       "      <td>1.1</td>\n",
       "      <td>4.4 and up</td>\n",
       "      <td>NaN</td>\n",
       "      <td>NaN</td>\n",
       "    </tr>\n",
       "  </tbody>\n",
       "</table>\n",
       "</div>"
      ],
      "text/plain": [
       "                                                 App        Category  Rating  \\\n",
       "0     Photo Editor & Candy Camera & Grid & ScrapBook  ART_AND_DESIGN     4.1   \n",
       "1                                Coloring book moana  ART_AND_DESIGN     3.9   \n",
       "2  U Launcher Lite – FREE Live Cool Themes, Hide ...  ART_AND_DESIGN     4.7   \n",
       "3                              Sketch - Draw & Paint  ART_AND_DESIGN     4.5   \n",
       "4              Pixel Draw - Number Art Coloring Book  ART_AND_DESIGN     4.3   \n",
       "\n",
       "  Reviews  Size_in_bytes  Installs  Type Price Content Rating  \\\n",
       "0     159            NaN     10000  Free     0       Everyone   \n",
       "1     967            NaN    500000  Free     0       Everyone   \n",
       "2   87510            NaN   5000000  Free     0       Everyone   \n",
       "3  215644            NaN  50000000  Free     0           Teen   \n",
       "4     967            NaN    100000  Free     0       Everyone   \n",
       "\n",
       "                      Genres      Last Updated         Current Ver  \\\n",
       "0               Art & Design   January 7, 2018               1.0.0   \n",
       "1  Art & Design;Pretend Play  January 15, 2018               2.0.0   \n",
       "2               Art & Design    August 1, 2018               1.2.4   \n",
       "3               Art & Design      June 8, 2018  Varies with device   \n",
       "4    Art & Design;Creativity     June 20, 2018                 1.1   \n",
       "\n",
       "    Android Ver  Size_in_Mb  Size_in_kb  \n",
       "0  4.0.3 and up         NaN         NaN  \n",
       "1  4.0.3 and up         NaN         NaN  \n",
       "2  4.0.3 and up         NaN         NaN  \n",
       "3    4.2 and up         NaN         NaN  \n",
       "4    4.4 and up         NaN         NaN  "
      ]
     },
     "execution_count": 446,
     "metadata": {},
     "output_type": "execute_result"
    }
   ],
   "source": [
    "df.head()"
   ]
  },
  {
   "cell_type": "code",
   "execution_count": 460,
   "id": "26919434-5061-4d30-a89d-aef24bd89cdc",
   "metadata": {},
   "outputs": [],
   "source": [
    "#marking a new column called 'Installs_category' which will have category of the Installs\n",
    "bins =[-1, 0, 10, 1000, 10000, 100000, 1000000, 100000000, 10000000000]\n",
    "labels=['no','Very Low','Low','Moderate','More than moderate','High','Very High','Top Notch']\n",
    "df['Installs_category'] = pd.cut(df['Installs'],bins=bins,labels=labels)"
   ]
  },
  {
   "cell_type": "code",
   "execution_count": 462,
   "id": "fd6c2f02-73ee-4cbd-8eec-71fb406c9af4",
   "metadata": {},
   "outputs": [
    {
     "data": {
      "text/plain": [
       "Installs_category\n",
       "Very High             2702\n",
       "Low                   2161\n",
       "High                  2118\n",
       "More than moderate    1648\n",
       "Moderate              1531\n",
       "Very Low               535\n",
       "Top Notch              130\n",
       "no                      16\n",
       "Name: count, dtype: int64"
      ]
     },
     "execution_count": 462,
     "metadata": {},
     "output_type": "execute_result"
    }
   ],
   "source": [
    "df['Installs_category'].value_counts()"
   ]
  },
  {
   "cell_type": "code",
   "execution_count": 466,
   "id": "4f1a765a-21c6-4fe9-b18a-cb6525d2b40e",
   "metadata": {},
   "outputs": [
    {
     "data": {
      "text/plain": [
       "array(['0', '$4.99', '$3.99', '$6.99', '$1.49', '$2.99', '$7.99', '$5.99',\n",
       "       '$3.49', '$1.99', '$9.99', '$7.49', '$0.99', '$9.00', '$5.49',\n",
       "       '$10.00', '$24.99', '$11.99', '$79.99', '$16.99', '$14.99',\n",
       "       '$1.00', '$29.99', '$12.99', '$2.49', '$10.99', '$1.50', '$19.99',\n",
       "       '$15.99', '$33.99', '$74.99', '$39.99', '$3.95', '$4.49', '$1.70',\n",
       "       '$8.99', '$2.00', '$3.88', '$25.99', '$399.99', '$17.99',\n",
       "       '$400.00', '$3.02', '$1.76', '$4.84', '$4.77', '$1.61', '$2.50',\n",
       "       '$1.59', '$6.49', '$1.29', '$5.00', '$13.99', '$299.99', '$379.99',\n",
       "       '$37.99', '$18.99', '$389.99', '$19.90', '$8.49', '$1.75',\n",
       "       '$14.00', '$4.85', '$46.99', '$109.99', '$154.99', '$3.08',\n",
       "       '$2.59', '$4.80', '$1.96', '$19.40', '$3.90', '$4.59', '$15.46',\n",
       "       '$3.04', '$4.29', '$2.60', '$3.28', '$4.60', '$28.99', '$2.95',\n",
       "       '$2.90', '$1.97', '$200.00', '$89.99', '$2.56', '$30.99', '$3.61',\n",
       "       '$394.99', '$1.26', 'Everyone', '$1.20', '$1.04'], dtype=object)"
      ]
     },
     "execution_count": 466,
     "metadata": {},
     "output_type": "execute_result"
    }
   ],
   "source": [
    "df['Price'].unique()"
   ]
  },
  {
   "cell_type": "code",
   "execution_count": 470,
   "id": "3291616e-b10a-427c-a839-9e65dc2e584c",
   "metadata": {},
   "outputs": [
    {
     "data": {
      "text/plain": [
       "0"
      ]
     },
     "execution_count": 470,
     "metadata": {},
     "output_type": "execute_result"
    }
   ],
   "source": [
    "df['Price'].isnull().sum()"
   ]
  },
  {
   "cell_type": "code",
   "execution_count": 476,
   "id": "10c9b2c7-ea13-42ad-93fb-8b9b7e8bc52c",
   "metadata": {},
   "outputs": [
    {
     "data": {
      "text/plain": [
       "Price\n",
       "0         10040\n",
       "$0.99       148\n",
       "$2.99       129\n",
       "$1.99        73\n",
       "$4.99        72\n",
       "          ...  \n",
       "$1.75         1\n",
       "$14.00        1\n",
       "$4.85         1\n",
       "$46.99        1\n",
       "$1.04         1\n",
       "Name: count, Length: 93, dtype: int64"
      ]
     },
     "execution_count": 476,
     "metadata": {},
     "output_type": "execute_result"
    }
   ],
   "source": [
    "df['Price'].value_counts()"
   ]
  },
  {
   "cell_type": "code",
   "execution_count": 482,
   "id": "7bf8c231-bc1f-4e04-ab12-246ef2eaf364",
   "metadata": {},
   "outputs": [
    {
     "name": "stderr",
     "output_type": "stream",
     "text": [
      "<>:1: SyntaxWarning: invalid escape sequence '\\$'\n",
      "<>:1: SyntaxWarning: invalid escape sequence '\\$'\n",
      "C:\\Users\\abish\\AppData\\Local\\Temp\\ipykernel_12156\\3867966849.py:1: SyntaxWarning: invalid escape sequence '\\$'\n",
      "  df['Price'].loc[(df['Price'].str.contains('0')) & (~df['Price'].str.contains('\\$'))].value_counts().sum()\n"
     ]
    },
    {
     "data": {
      "text/plain": [
       "10040"
      ]
     },
     "execution_count": 482,
     "metadata": {},
     "output_type": "execute_result"
    }
   ],
   "source": [
    "df['Price'].loc[(df['Price'].str.contains('0')) & (~df['Price'].str.contains('\\$'))].value_counts().sum()"
   ]
  },
  {
   "cell_type": "code",
   "execution_count": 484,
   "id": "54e60adc-2740-4fa8-ad58-3d72672ff33d",
   "metadata": {},
   "outputs": [
    {
     "data": {
      "text/plain": [
       "10841"
      ]
     },
     "execution_count": 484,
     "metadata": {},
     "output_type": "execute_result"
    }
   ],
   "source": [
    "800+10041"
   ]
  },
  {
   "cell_type": "code",
   "execution_count": 492,
   "id": "cf2c506a-2d0d-4ce1-9dbe-8ff44080a6f3",
   "metadata": {},
   "outputs": [],
   "source": [
    "import pandas as pd\n",
    "\n",
    "# Assuming you have a DataFrame named 'df' with a 'Price' column\n",
    "def clean_price(df):\n",
    "    \"\"\"\n",
    "    Cleans the 'Price' column of a DataFrame by removing non-numeric characters and converting it to float.\n",
    "\n",
    "    Args:\n",
    "        df (pandas.DataFrame): The DataFrame containing the 'Price' column.\n",
    "\n",
    "    Returns:\n",
    "        pandas.DataFrame: The DataFrame with the cleaned 'Price' column.\n",
    "    \"\"\"\n",
    "\n",
    "    # Replace 'Everyone' with '0'\n",
    "    df['Price'] = df['Price'].apply(lambda x: str(x).replace('Everyone', '0') if 'Everyone' in str(x) else x)\n",
    "\n",
    "    # Remove non-numeric characters (except '.' and '+' or '-')\n",
    "    df['Price'] = df['Price'].astype(str).str.replace(r'[^\\d\\.]', '', regex=True)\n",
    "\n",
    "    # Convert to float\n",
    "    df['Price'] = pd.to_numeric(df['Price'])\n",
    "\n",
    "    return df\n",
    "\n",
    "# Clean the 'Price' column in your DataFrame\n",
    "df = clean_price(df)"
   ]
  },
  {
   "cell_type": "code",
   "execution_count": 494,
   "id": "3b49037e-a409-4e3e-bbc0-687deb2afd02",
   "metadata": {},
   "outputs": [
    {
     "data": {
      "text/plain": [
       "dtype('float64')"
      ]
     },
     "execution_count": 494,
     "metadata": {},
     "output_type": "execute_result"
    }
   ],
   "source": [
    "df['Price'].dtype"
   ]
  },
  {
   "cell_type": "code",
   "execution_count": 500,
   "id": "29b52c45-580f-4ffb-a11e-eac2f130627f",
   "metadata": {},
   "outputs": [
    {
     "name": "stdout",
     "output_type": "stream",
     "text": [
      "Min price is : 0.0$\n",
      "Max price is : 400.0$\n",
      "Average price is : 1.0272733142699015$\n"
     ]
    }
   ],
   "source": [
    "print(f\"Min price is : {df['Price'].min()}$\")\n",
    "print(f\"Max price is : {df['Price'].max()}$\")\n",
    "print(f\"Average price is : {df['Price'].mean()}$\")"
   ]
  },
  {
   "cell_type": "code",
   "execution_count": 502,
   "id": "35243a09-59ee-4d8d-8965-e9818857af30",
   "metadata": {},
   "outputs": [
    {
     "data": {
      "text/html": [
       "<div>\n",
       "<style scoped>\n",
       "    .dataframe tbody tr th:only-of-type {\n",
       "        vertical-align: middle;\n",
       "    }\n",
       "\n",
       "    .dataframe tbody tr th {\n",
       "        vertical-align: top;\n",
       "    }\n",
       "\n",
       "    .dataframe thead th {\n",
       "        text-align: right;\n",
       "    }\n",
       "</style>\n",
       "<table border=\"1\" class=\"dataframe\">\n",
       "  <thead>\n",
       "    <tr style=\"text-align: right;\">\n",
       "      <th></th>\n",
       "      <th>Rating</th>\n",
       "      <th>Size_in_bytes</th>\n",
       "      <th>Installs</th>\n",
       "      <th>Price</th>\n",
       "      <th>Size_in_Mb</th>\n",
       "      <th>Size_in_kb</th>\n",
       "    </tr>\n",
       "  </thead>\n",
       "  <tbody>\n",
       "    <tr>\n",
       "      <th>count</th>\n",
       "      <td>9367.000000</td>\n",
       "      <td>0.0</td>\n",
       "      <td>1.084100e+04</td>\n",
       "      <td>10841.000000</td>\n",
       "      <td>0.0</td>\n",
       "      <td>0.0</td>\n",
       "    </tr>\n",
       "    <tr>\n",
       "      <th>mean</th>\n",
       "      <td>4.193338</td>\n",
       "      <td>NaN</td>\n",
       "      <td>1.546291e+07</td>\n",
       "      <td>1.027273</td>\n",
       "      <td>NaN</td>\n",
       "      <td>NaN</td>\n",
       "    </tr>\n",
       "    <tr>\n",
       "      <th>std</th>\n",
       "      <td>0.537431</td>\n",
       "      <td>NaN</td>\n",
       "      <td>8.502557e+07</td>\n",
       "      <td>15.948971</td>\n",
       "      <td>NaN</td>\n",
       "      <td>NaN</td>\n",
       "    </tr>\n",
       "    <tr>\n",
       "      <th>min</th>\n",
       "      <td>1.000000</td>\n",
       "      <td>NaN</td>\n",
       "      <td>0.000000e+00</td>\n",
       "      <td>0.000000</td>\n",
       "      <td>NaN</td>\n",
       "      <td>NaN</td>\n",
       "    </tr>\n",
       "    <tr>\n",
       "      <th>25%</th>\n",
       "      <td>4.000000</td>\n",
       "      <td>NaN</td>\n",
       "      <td>1.000000e+03</td>\n",
       "      <td>0.000000</td>\n",
       "      <td>NaN</td>\n",
       "      <td>NaN</td>\n",
       "    </tr>\n",
       "    <tr>\n",
       "      <th>50%</th>\n",
       "      <td>4.300000</td>\n",
       "      <td>NaN</td>\n",
       "      <td>1.000000e+05</td>\n",
       "      <td>0.000000</td>\n",
       "      <td>NaN</td>\n",
       "      <td>NaN</td>\n",
       "    </tr>\n",
       "    <tr>\n",
       "      <th>75%</th>\n",
       "      <td>4.500000</td>\n",
       "      <td>NaN</td>\n",
       "      <td>5.000000e+06</td>\n",
       "      <td>0.000000</td>\n",
       "      <td>NaN</td>\n",
       "      <td>NaN</td>\n",
       "    </tr>\n",
       "    <tr>\n",
       "      <th>max</th>\n",
       "      <td>19.000000</td>\n",
       "      <td>NaN</td>\n",
       "      <td>1.000000e+09</td>\n",
       "      <td>400.000000</td>\n",
       "      <td>NaN</td>\n",
       "      <td>NaN</td>\n",
       "    </tr>\n",
       "  </tbody>\n",
       "</table>\n",
       "</div>"
      ],
      "text/plain": [
       "            Rating  Size_in_bytes      Installs         Price  Size_in_Mb  \\\n",
       "count  9367.000000            0.0  1.084100e+04  10841.000000         0.0   \n",
       "mean      4.193338            NaN  1.546291e+07      1.027273         NaN   \n",
       "std       0.537431            NaN  8.502557e+07     15.948971         NaN   \n",
       "min       1.000000            NaN  0.000000e+00      0.000000         NaN   \n",
       "25%       4.000000            NaN  1.000000e+03      0.000000         NaN   \n",
       "50%       4.300000            NaN  1.000000e+05      0.000000         NaN   \n",
       "75%       4.500000            NaN  5.000000e+06      0.000000         NaN   \n",
       "max      19.000000            NaN  1.000000e+09    400.000000         NaN   \n",
       "\n",
       "       Size_in_kb  \n",
       "count         0.0  \n",
       "mean          NaN  \n",
       "std           NaN  \n",
       "min           NaN  \n",
       "25%           NaN  \n",
       "50%           NaN  \n",
       "75%           NaN  \n",
       "max           NaN  "
      ]
     },
     "execution_count": 502,
     "metadata": {},
     "output_type": "execute_result"
    }
   ],
   "source": [
    "df.describe()"
   ]
  },
  {
   "cell_type": "code",
   "execution_count": 504,
   "id": "5e8254b3-8398-4867-8b18-33127c7b0f19",
   "metadata": {},
   "outputs": [
    {
     "data": {
      "text/plain": [
       "App                      0\n",
       "Category                 0\n",
       "Rating                1474\n",
       "Reviews                  0\n",
       "Size_in_bytes        10841\n",
       "Installs                 0\n",
       "Type                     1\n",
       "Price                    0\n",
       "Content Rating           1\n",
       "Genres                   0\n",
       "Last Updated             0\n",
       "Current Ver              8\n",
       "Android Ver              3\n",
       "Size_in_Mb           10841\n",
       "Size_in_kb           10841\n",
       "Installs_category        0\n",
       "dtype: int64"
      ]
     },
     "execution_count": 504,
     "metadata": {},
     "output_type": "execute_result"
    }
   ],
   "source": [
    "df.isnull().sum()"
   ]
  },
  {
   "cell_type": "code",
   "execution_count": 506,
   "id": "dde2e9c7-d325-4f02-a8f2-dc8c14ba2dc8",
   "metadata": {},
   "outputs": [
    {
     "data": {
      "text/plain": [
       "Size_in_bytes        10841\n",
       "Size_in_Mb           10841\n",
       "Size_in_kb           10841\n",
       "Rating                1474\n",
       "Current Ver              8\n",
       "Android Ver              3\n",
       "Type                     1\n",
       "Content Rating           1\n",
       "App                      0\n",
       "Category                 0\n",
       "Reviews                  0\n",
       "Installs                 0\n",
       "Price                    0\n",
       "Genres                   0\n",
       "Last Updated             0\n",
       "Installs_category        0\n",
       "dtype: int64"
      ]
     },
     "execution_count": 506,
     "metadata": {},
     "output_type": "execute_result"
    }
   ],
   "source": [
    "df.isnull().sum().sort_values(ascending=False)"
   ]
  },
  {
   "cell_type": "code",
   "execution_count": 508,
   "id": "19483da4-29a5-4388-95f4-95756bd1dddd",
   "metadata": {},
   "outputs": [
    {
     "data": {
      "text/plain": [
       "34010"
      ]
     },
     "execution_count": 508,
     "metadata": {},
     "output_type": "execute_result"
    }
   ],
   "source": [
    "df.isnull().sum().sum()"
   ]
  },
  {
   "cell_type": "code",
   "execution_count": 512,
   "id": "09e73230-e475-4129-b502-cce5c100d9b7",
   "metadata": {},
   "outputs": [
    {
     "data": {
      "text/plain": [
       "Size_in_bytes        100.000000\n",
       "Size_in_Mb           100.000000\n",
       "Size_in_kb           100.000000\n",
       "Rating                13.596532\n",
       "Current Ver            0.073794\n",
       "Android Ver            0.027673\n",
       "Type                   0.009224\n",
       "Content Rating         0.009224\n",
       "App                    0.000000\n",
       "Category               0.000000\n",
       "Reviews                0.000000\n",
       "Installs               0.000000\n",
       "Price                  0.000000\n",
       "Genres                 0.000000\n",
       "Last Updated           0.000000\n",
       "Installs_category      0.000000\n",
       "dtype: float64"
      ]
     },
     "execution_count": 512,
     "metadata": {},
     "output_type": "execute_result"
    }
   ],
   "source": [
    "(df.isnull().sum() / len(df) * 100).sort_values(ascending=False)"
   ]
  },
  {
   "cell_type": "code",
   "execution_count": 516,
   "id": "05532cdb-a9b3-47ce-b9f2-793b4a98df97",
   "metadata": {},
   "outputs": [
    {
     "data": {
      "image/png": "[encoded data removed]",
      "text/plain": [
       "<Figure size 1000x600 with 1 Axes>"
      ]
     },
     "metadata": {},
     "output_type": "display_data"
    }
   ],
   "source": [
    "plt.figure(figsize=(10, 6))\n",
    "sns.heatmap(df.isnull(), yticklabels=False, cbar=False, cmap='viridis')\n",
    "plt.title('Missing Values Heatmap')\n",
    "plt.show()"
   ]
  },
  {
   "cell_type": "code",
   "execution_count": 522,
   "id": "ca6cbca4-e9b9-40f9-be56-8900647950fa",
   "metadata": {},
   "outputs": [
    {
     "data": {
      "image/png": "[encoded data removed]",
      "text/plain": [
       "<Figure size 1600x600 with 1 Axes>"
      ]
     },
     "metadata": {},
     "output_type": "display_data"
    }
   ],
   "source": [
    "# Create the bar plot\n",
    "plt.figure(figsize=(16, 6))\n",
    "missing_percentage = (df.isnull().sum() / len(df)) * 100\n",
    "missing_percentage_less_than_1.plot(kind='bar')\n",
    "plt.xlabel('Columns')\n",
    "plt.ylabel('Percentage')\n",
    "plt.title('Percentage of Missing Values in Each Column')\n",
    "plt.show()"
   ]
  },
  {
   "cell_type": "code",
   "execution_count": null,
   "id": "47b5950b-4564-4cae-823e-526aad93aff2",
   "metadata": {},
   "outputs": [],
   "source": [
    "\n",
    "missing_percentage = (df.isnull().sum() / len(df)) * 100\n",
    "\n",
    "# Create a heatmap\n",
    "plt.figure(figsize=(16, 10))\n",
    "sns.heatmap(missing_percentage.to_frame().T, cmap='viridis', annot=True)  # Transpose for column labels\n",
    "plt.xlabel('Columns')\n",
    "plt.ylabel('Missing Value Percentage')\n",
    "plt.title('Percentage of Missing Values in Each Column (Heatmap)')\n",
    "plt.show()\n"
   ]
  },
  {
   "cell_type": "code",
   "execution_count": 14,
   "id": "c0a96d77-7f25-4b5e-8a9e-04c618d0f74f",
   "metadata": {},
   "outputs": [
    {
     "name": "stdout",
     "output_type": "stream",
     "text": [
      "Not enough data points to calculate Pearson correlation (at least 2 data points required).\n"
     ]
    }
   ],
   "source": [
    "#we can calculate the pearson correlation coefficient using scipy as well as follows\n",
    "import pandas as pd\n",
    "from scipy import stats\n",
    "\n",
    "# Load the dataframe\n",
    "df = pd.read_csv(\"Google_data.csv\")  # Replace with your actual dataset path\n",
    "# Convert 'Reviews' and 'Installs' to numeric, forcing errors to NaN\n",
    "df['Reviews'] = pd.to_numeric(df['Reviews'], errors='coerce')\n",
    "df['Installs'] = pd.to_numeric(df['Installs'], errors='coerce')\n",
    "\n",
    "# Drop rows with missing values after conversion\n",
    "df_clean = df.dropna(subset=['Reviews', 'Installs'])\n",
    "\n",
    "# Check if there are at least 2 valid data points\n",
    "if len(df_clean) >= 2:\n",
    "    # Calculate the Pearson correlation coefficient\n",
    "    pearson_r, _ = stats.pearsonr(df_clean['Reviews'], df_clean['Installs'])\n",
    "    print(f\"Pearson's correlation between Reviews and Installs is {pearson_r:.4f}\")\n",
    "else:\n",
    "    print(\"Not enough data points to calculate Pearson correlation (at least 2 data points required).\")\n"
   ]
  },
  {
   "cell_type": "code",
   "execution_count": 16,
   "id": "93f5829a-282d-4cbc-af6c-e01ea4aae203",
   "metadata": {},
   "outputs": [
    {
     "data": {
      "text/plain": [
       "Index(['App', 'Category', 'Rating', 'Reviews', 'Size', 'Installs', 'Type',\n",
       "       'Price', 'Content Rating', 'Genres', 'Last Updated', 'Current Ver',\n",
       "       'Android Ver'],\n",
       "      dtype='object')"
      ]
     },
     "execution_count": 16,
     "metadata": {},
     "output_type": "execute_result"
    }
   ],
   "source": [
    "df.columns"
   ]
  },
  {
   "cell_type": "code",
   "execution_count": 32,
   "id": "3eb4d225-6244-4ba9-b337-a19263dba7e2",
   "metadata": {},
   "outputs": [
    {
     "data": {
      "text/html": [
       "<div>\n",
       "<style scoped>\n",
       "    .dataframe tbody tr th:only-of-type {\n",
       "        vertical-align: middle;\n",
       "    }\n",
       "\n",
       "    .dataframe tbody tr th {\n",
       "        vertical-align: top;\n",
       "    }\n",
       "\n",
       "    .dataframe thead th {\n",
       "        text-align: right;\n",
       "    }\n",
       "</style>\n",
       "<table border=\"1\" class=\"dataframe\">\n",
       "  <thead>\n",
       "    <tr style=\"text-align: right;\">\n",
       "      <th></th>\n",
       "      <th>count</th>\n",
       "      <th>mean</th>\n",
       "      <th>std</th>\n",
       "      <th>min</th>\n",
       "      <th>25%</th>\n",
       "      <th>50%</th>\n",
       "      <th>75%</th>\n",
       "      <th>max</th>\n",
       "    </tr>\n",
       "    <tr>\n",
       "      <th>Category</th>\n",
       "      <th></th>\n",
       "      <th></th>\n",
       "      <th></th>\n",
       "      <th></th>\n",
       "      <th></th>\n",
       "      <th></th>\n",
       "      <th></th>\n",
       "      <th></th>\n",
       "    </tr>\n",
       "  </thead>\n",
       "  <tbody>\n",
       "    <tr>\n",
       "      <th>1.9</th>\n",
       "      <td>1.0</td>\n",
       "      <td>19.000000</td>\n",
       "      <td>NaN</td>\n",
       "      <td>19.0</td>\n",
       "      <td>19.000</td>\n",
       "      <td>19.0</td>\n",
       "      <td>19.000</td>\n",
       "      <td>19.0</td>\n",
       "    </tr>\n",
       "    <tr>\n",
       "      <th>ART_AND_DESIGN</th>\n",
       "      <td>62.0</td>\n",
       "      <td>4.358065</td>\n",
       "      <td>0.358297</td>\n",
       "      <td>3.2</td>\n",
       "      <td>4.100</td>\n",
       "      <td>4.4</td>\n",
       "      <td>4.700</td>\n",
       "      <td>5.0</td>\n",
       "    </tr>\n",
       "    <tr>\n",
       "      <th>AUTO_AND_VEHICLES</th>\n",
       "      <td>73.0</td>\n",
       "      <td>4.190411</td>\n",
       "      <td>0.543692</td>\n",
       "      <td>2.1</td>\n",
       "      <td>4.000</td>\n",
       "      <td>4.3</td>\n",
       "      <td>4.600</td>\n",
       "      <td>4.9</td>\n",
       "    </tr>\n",
       "    <tr>\n",
       "      <th>BEAUTY</th>\n",
       "      <td>42.0</td>\n",
       "      <td>4.278571</td>\n",
       "      <td>0.362603</td>\n",
       "      <td>3.1</td>\n",
       "      <td>4.000</td>\n",
       "      <td>4.3</td>\n",
       "      <td>4.575</td>\n",
       "      <td>4.9</td>\n",
       "    </tr>\n",
       "    <tr>\n",
       "      <th>BOOKS_AND_REFERENCE</th>\n",
       "      <td>178.0</td>\n",
       "      <td>4.346067</td>\n",
       "      <td>0.429046</td>\n",
       "      <td>2.7</td>\n",
       "      <td>4.100</td>\n",
       "      <td>4.5</td>\n",
       "      <td>4.600</td>\n",
       "      <td>5.0</td>\n",
       "    </tr>\n",
       "    <tr>\n",
       "      <th>BUSINESS</th>\n",
       "      <td>303.0</td>\n",
       "      <td>4.121452</td>\n",
       "      <td>0.624422</td>\n",
       "      <td>1.0</td>\n",
       "      <td>3.900</td>\n",
       "      <td>4.3</td>\n",
       "      <td>4.500</td>\n",
       "      <td>5.0</td>\n",
       "    </tr>\n",
       "    <tr>\n",
       "      <th>COMICS</th>\n",
       "      <td>58.0</td>\n",
       "      <td>4.155172</td>\n",
       "      <td>0.537758</td>\n",
       "      <td>2.8</td>\n",
       "      <td>3.825</td>\n",
       "      <td>4.4</td>\n",
       "      <td>4.500</td>\n",
       "      <td>5.0</td>\n",
       "    </tr>\n",
       "    <tr>\n",
       "      <th>COMMUNICATION</th>\n",
       "      <td>328.0</td>\n",
       "      <td>4.158537</td>\n",
       "      <td>0.426192</td>\n",
       "      <td>1.0</td>\n",
       "      <td>4.000</td>\n",
       "      <td>4.3</td>\n",
       "      <td>4.400</td>\n",
       "      <td>5.0</td>\n",
       "    </tr>\n",
       "    <tr>\n",
       "      <th>DATING</th>\n",
       "      <td>195.0</td>\n",
       "      <td>3.970769</td>\n",
       "      <td>0.630510</td>\n",
       "      <td>1.0</td>\n",
       "      <td>3.700</td>\n",
       "      <td>4.1</td>\n",
       "      <td>4.400</td>\n",
       "      <td>5.0</td>\n",
       "    </tr>\n",
       "    <tr>\n",
       "      <th>EDUCATION</th>\n",
       "      <td>155.0</td>\n",
       "      <td>4.389032</td>\n",
       "      <td>0.251894</td>\n",
       "      <td>3.5</td>\n",
       "      <td>4.200</td>\n",
       "      <td>4.4</td>\n",
       "      <td>4.600</td>\n",
       "      <td>4.9</td>\n",
       "    </tr>\n",
       "    <tr>\n",
       "      <th>ENTERTAINMENT</th>\n",
       "      <td>149.0</td>\n",
       "      <td>4.126174</td>\n",
       "      <td>0.302556</td>\n",
       "      <td>3.0</td>\n",
       "      <td>3.900</td>\n",
       "      <td>4.2</td>\n",
       "      <td>4.300</td>\n",
       "      <td>4.7</td>\n",
       "    </tr>\n",
       "    <tr>\n",
       "      <th>EVENTS</th>\n",
       "      <td>45.0</td>\n",
       "      <td>4.435556</td>\n",
       "      <td>0.419499</td>\n",
       "      <td>2.9</td>\n",
       "      <td>4.200</td>\n",
       "      <td>4.5</td>\n",
       "      <td>4.700</td>\n",
       "      <td>5.0</td>\n",
       "    </tr>\n",
       "    <tr>\n",
       "      <th>FAMILY</th>\n",
       "      <td>1747.0</td>\n",
       "      <td>4.192272</td>\n",
       "      <td>0.508026</td>\n",
       "      <td>1.0</td>\n",
       "      <td>4.000</td>\n",
       "      <td>4.3</td>\n",
       "      <td>4.500</td>\n",
       "      <td>5.0</td>\n",
       "    </tr>\n",
       "    <tr>\n",
       "      <th>FINANCE</th>\n",
       "      <td>323.0</td>\n",
       "      <td>4.131889</td>\n",
       "      <td>0.642108</td>\n",
       "      <td>1.0</td>\n",
       "      <td>4.000</td>\n",
       "      <td>4.3</td>\n",
       "      <td>4.500</td>\n",
       "      <td>5.0</td>\n",
       "    </tr>\n",
       "    <tr>\n",
       "      <th>FOOD_AND_DRINK</th>\n",
       "      <td>109.0</td>\n",
       "      <td>4.166972</td>\n",
       "      <td>0.548070</td>\n",
       "      <td>1.7</td>\n",
       "      <td>4.000</td>\n",
       "      <td>4.3</td>\n",
       "      <td>4.500</td>\n",
       "      <td>5.0</td>\n",
       "    </tr>\n",
       "    <tr>\n",
       "      <th>GAME</th>\n",
       "      <td>1097.0</td>\n",
       "      <td>4.286326</td>\n",
       "      <td>0.365375</td>\n",
       "      <td>1.0</td>\n",
       "      <td>4.100</td>\n",
       "      <td>4.4</td>\n",
       "      <td>4.500</td>\n",
       "      <td>5.0</td>\n",
       "    </tr>\n",
       "    <tr>\n",
       "      <th>HEALTH_AND_FITNESS</th>\n",
       "      <td>297.0</td>\n",
       "      <td>4.277104</td>\n",
       "      <td>0.617822</td>\n",
       "      <td>1.4</td>\n",
       "      <td>4.100</td>\n",
       "      <td>4.5</td>\n",
       "      <td>4.600</td>\n",
       "      <td>5.0</td>\n",
       "    </tr>\n",
       "    <tr>\n",
       "      <th>HOUSE_AND_HOME</th>\n",
       "      <td>76.0</td>\n",
       "      <td>4.197368</td>\n",
       "      <td>0.368411</td>\n",
       "      <td>2.8</td>\n",
       "      <td>4.000</td>\n",
       "      <td>4.3</td>\n",
       "      <td>4.500</td>\n",
       "      <td>4.8</td>\n",
       "    </tr>\n",
       "    <tr>\n",
       "      <th>LIBRARIES_AND_DEMO</th>\n",
       "      <td>65.0</td>\n",
       "      <td>4.178462</td>\n",
       "      <td>0.378522</td>\n",
       "      <td>3.1</td>\n",
       "      <td>4.000</td>\n",
       "      <td>4.2</td>\n",
       "      <td>4.400</td>\n",
       "      <td>5.0</td>\n",
       "    </tr>\n",
       "    <tr>\n",
       "      <th>LIFESTYLE</th>\n",
       "      <td>314.0</td>\n",
       "      <td>4.094904</td>\n",
       "      <td>0.693907</td>\n",
       "      <td>1.5</td>\n",
       "      <td>3.800</td>\n",
       "      <td>4.2</td>\n",
       "      <td>4.600</td>\n",
       "      <td>5.0</td>\n",
       "    </tr>\n",
       "    <tr>\n",
       "      <th>MAPS_AND_NAVIGATION</th>\n",
       "      <td>124.0</td>\n",
       "      <td>4.051613</td>\n",
       "      <td>0.519926</td>\n",
       "      <td>1.9</td>\n",
       "      <td>3.775</td>\n",
       "      <td>4.2</td>\n",
       "      <td>4.400</td>\n",
       "      <td>4.9</td>\n",
       "    </tr>\n",
       "    <tr>\n",
       "      <th>MEDICAL</th>\n",
       "      <td>350.0</td>\n",
       "      <td>4.189143</td>\n",
       "      <td>0.663581</td>\n",
       "      <td>1.0</td>\n",
       "      <td>4.000</td>\n",
       "      <td>4.3</td>\n",
       "      <td>4.600</td>\n",
       "      <td>5.0</td>\n",
       "    </tr>\n",
       "    <tr>\n",
       "      <th>NEWS_AND_MAGAZINES</th>\n",
       "      <td>233.0</td>\n",
       "      <td>4.132189</td>\n",
       "      <td>0.536707</td>\n",
       "      <td>1.7</td>\n",
       "      <td>3.900</td>\n",
       "      <td>4.2</td>\n",
       "      <td>4.500</td>\n",
       "      <td>5.0</td>\n",
       "    </tr>\n",
       "    <tr>\n",
       "      <th>PARENTING</th>\n",
       "      <td>50.0</td>\n",
       "      <td>4.300000</td>\n",
       "      <td>0.517845</td>\n",
       "      <td>2.0</td>\n",
       "      <td>4.100</td>\n",
       "      <td>4.4</td>\n",
       "      <td>4.675</td>\n",
       "      <td>5.0</td>\n",
       "    </tr>\n",
       "    <tr>\n",
       "      <th>PERSONALIZATION</th>\n",
       "      <td>314.0</td>\n",
       "      <td>4.335987</td>\n",
       "      <td>0.352732</td>\n",
       "      <td>2.5</td>\n",
       "      <td>4.200</td>\n",
       "      <td>4.4</td>\n",
       "      <td>4.600</td>\n",
       "      <td>5.0</td>\n",
       "    </tr>\n",
       "    <tr>\n",
       "      <th>PHOTOGRAPHY</th>\n",
       "      <td>317.0</td>\n",
       "      <td>4.192114</td>\n",
       "      <td>0.462896</td>\n",
       "      <td>2.0</td>\n",
       "      <td>4.000</td>\n",
       "      <td>4.3</td>\n",
       "      <td>4.500</td>\n",
       "      <td>5.0</td>\n",
       "    </tr>\n",
       "    <tr>\n",
       "      <th>PRODUCTIVITY</th>\n",
       "      <td>351.0</td>\n",
       "      <td>4.211396</td>\n",
       "      <td>0.504931</td>\n",
       "      <td>1.0</td>\n",
       "      <td>4.100</td>\n",
       "      <td>4.3</td>\n",
       "      <td>4.500</td>\n",
       "      <td>5.0</td>\n",
       "    </tr>\n",
       "    <tr>\n",
       "      <th>SHOPPING</th>\n",
       "      <td>238.0</td>\n",
       "      <td>4.259664</td>\n",
       "      <td>0.404577</td>\n",
       "      <td>1.6</td>\n",
       "      <td>4.100</td>\n",
       "      <td>4.3</td>\n",
       "      <td>4.500</td>\n",
       "      <td>5.0</td>\n",
       "    </tr>\n",
       "    <tr>\n",
       "      <th>SOCIAL</th>\n",
       "      <td>259.0</td>\n",
       "      <td>4.255598</td>\n",
       "      <td>0.413809</td>\n",
       "      <td>1.9</td>\n",
       "      <td>4.100</td>\n",
       "      <td>4.3</td>\n",
       "      <td>4.500</td>\n",
       "      <td>5.0</td>\n",
       "    </tr>\n",
       "    <tr>\n",
       "      <th>SPORTS</th>\n",
       "      <td>319.0</td>\n",
       "      <td>4.223511</td>\n",
       "      <td>0.427857</td>\n",
       "      <td>1.5</td>\n",
       "      <td>4.100</td>\n",
       "      <td>4.3</td>\n",
       "      <td>4.500</td>\n",
       "      <td>5.0</td>\n",
       "    </tr>\n",
       "    <tr>\n",
       "      <th>TOOLS</th>\n",
       "      <td>734.0</td>\n",
       "      <td>4.047411</td>\n",
       "      <td>0.616143</td>\n",
       "      <td>1.0</td>\n",
       "      <td>3.800</td>\n",
       "      <td>4.2</td>\n",
       "      <td>4.400</td>\n",
       "      <td>5.0</td>\n",
       "    </tr>\n",
       "    <tr>\n",
       "      <th>TRAVEL_AND_LOCAL</th>\n",
       "      <td>226.0</td>\n",
       "      <td>4.109292</td>\n",
       "      <td>0.504691</td>\n",
       "      <td>2.2</td>\n",
       "      <td>3.900</td>\n",
       "      <td>4.3</td>\n",
       "      <td>4.400</td>\n",
       "      <td>5.0</td>\n",
       "    </tr>\n",
       "    <tr>\n",
       "      <th>VIDEO_PLAYERS</th>\n",
       "      <td>160.0</td>\n",
       "      <td>4.063750</td>\n",
       "      <td>0.551098</td>\n",
       "      <td>1.8</td>\n",
       "      <td>3.800</td>\n",
       "      <td>4.2</td>\n",
       "      <td>4.400</td>\n",
       "      <td>4.9</td>\n",
       "    </tr>\n",
       "    <tr>\n",
       "      <th>WEATHER</th>\n",
       "      <td>75.0</td>\n",
       "      <td>4.244000</td>\n",
       "      <td>0.331353</td>\n",
       "      <td>3.3</td>\n",
       "      <td>4.050</td>\n",
       "      <td>4.3</td>\n",
       "      <td>4.500</td>\n",
       "      <td>4.8</td>\n",
       "    </tr>\n",
       "  </tbody>\n",
       "</table>\n",
       "</div>"
      ],
      "text/plain": [
       "                      count       mean       std   min     25%   50%     75%  \\\n",
       "Category                                                                       \n",
       "1.9                     1.0  19.000000       NaN  19.0  19.000  19.0  19.000   \n",
       "ART_AND_DESIGN         62.0   4.358065  0.358297   3.2   4.100   4.4   4.700   \n",
       "AUTO_AND_VEHICLES      73.0   4.190411  0.543692   2.1   4.000   4.3   4.600   \n",
       "BEAUTY                 42.0   4.278571  0.362603   3.1   4.000   4.3   4.575   \n",
       "BOOKS_AND_REFERENCE   178.0   4.346067  0.429046   2.7   4.100   4.5   4.600   \n",
       "BUSINESS              303.0   4.121452  0.624422   1.0   3.900   4.3   4.500   \n",
       "COMICS                 58.0   4.155172  0.537758   2.8   3.825   4.4   4.500   \n",
       "COMMUNICATION         328.0   4.158537  0.426192   1.0   4.000   4.3   4.400   \n",
       "DATING                195.0   3.970769  0.630510   1.0   3.700   4.1   4.400   \n",
       "EDUCATION             155.0   4.389032  0.251894   3.5   4.200   4.4   4.600   \n",
       "ENTERTAINMENT         149.0   4.126174  0.302556   3.0   3.900   4.2   4.300   \n",
       "EVENTS                 45.0   4.435556  0.419499   2.9   4.200   4.5   4.700   \n",
       "FAMILY               1747.0   4.192272  0.508026   1.0   4.000   4.3   4.500   \n",
       "FINANCE               323.0   4.131889  0.642108   1.0   4.000   4.3   4.500   \n",
       "FOOD_AND_DRINK        109.0   4.166972  0.548070   1.7   4.000   4.3   4.500   \n",
       "GAME                 1097.0   4.286326  0.365375   1.0   4.100   4.4   4.500   \n",
       "HEALTH_AND_FITNESS    297.0   4.277104  0.617822   1.4   4.100   4.5   4.600   \n",
       "HOUSE_AND_HOME         76.0   4.197368  0.368411   2.8   4.000   4.3   4.500   \n",
       "LIBRARIES_AND_DEMO     65.0   4.178462  0.378522   3.1   4.000   4.2   4.400   \n",
       "LIFESTYLE             314.0   4.094904  0.693907   1.5   3.800   4.2   4.600   \n",
       "MAPS_AND_NAVIGATION   124.0   4.051613  0.519926   1.9   3.775   4.2   4.400   \n",
       "MEDICAL               350.0   4.189143  0.663581   1.0   4.000   4.3   4.600   \n",
       "NEWS_AND_MAGAZINES    233.0   4.132189  0.536707   1.7   3.900   4.2   4.500   \n",
       "PARENTING              50.0   4.300000  0.517845   2.0   4.100   4.4   4.675   \n",
       "PERSONALIZATION       314.0   4.335987  0.352732   2.5   4.200   4.4   4.600   \n",
       "PHOTOGRAPHY           317.0   4.192114  0.462896   2.0   4.000   4.3   4.500   \n",
       "PRODUCTIVITY          351.0   4.211396  0.504931   1.0   4.100   4.3   4.500   \n",
       "SHOPPING              238.0   4.259664  0.404577   1.6   4.100   4.3   4.500   \n",
       "SOCIAL                259.0   4.255598  0.413809   1.9   4.100   4.3   4.500   \n",
       "SPORTS                319.0   4.223511  0.427857   1.5   4.100   4.3   4.500   \n",
       "TOOLS                 734.0   4.047411  0.616143   1.0   3.800   4.2   4.400   \n",
       "TRAVEL_AND_LOCAL      226.0   4.109292  0.504691   2.2   3.900   4.3   4.400   \n",
       "VIDEO_PLAYERS         160.0   4.063750  0.551098   1.8   3.800   4.2   4.400   \n",
       "WEATHER                75.0   4.244000  0.331353   3.3   4.050   4.3   4.500   \n",
       "\n",
       "                      max  \n",
       "Category                   \n",
       "1.9                  19.0  \n",
       "ART_AND_DESIGN        5.0  \n",
       "AUTO_AND_VEHICLES     4.9  \n",
       "BEAUTY                4.9  \n",
       "BOOKS_AND_REFERENCE   5.0  \n",
       "BUSINESS              5.0  \n",
       "COMICS                5.0  \n",
       "COMMUNICATION         5.0  \n",
       "DATING                5.0  \n",
       "EDUCATION             4.9  \n",
       "ENTERTAINMENT         4.7  \n",
       "EVENTS                5.0  \n",
       "FAMILY                5.0  \n",
       "FINANCE               5.0  \n",
       "FOOD_AND_DRINK        5.0  \n",
       "GAME                  5.0  \n",
       "HEALTH_AND_FITNESS    5.0  \n",
       "HOUSE_AND_HOME        4.8  \n",
       "LIBRARIES_AND_DEMO    5.0  \n",
       "LIFESTYLE             5.0  \n",
       "MAPS_AND_NAVIGATION   4.9  \n",
       "MEDICAL               5.0  \n",
       "NEWS_AND_MAGAZINES    5.0  \n",
       "PARENTING             5.0  \n",
       "PERSONALIZATION       5.0  \n",
       "PHOTOGRAPHY           5.0  \n",
       "PRODUCTIVITY          5.0  \n",
       "SHOPPING              5.0  \n",
       "SOCIAL                5.0  \n",
       "SPORTS                5.0  \n",
       "TOOLS                 5.0  \n",
       "TRAVEL_AND_LOCAL      5.0  \n",
       "VIDEO_PLAYERS         4.9  \n",
       "WEATHER               4.8  "
      ]
     },
     "execution_count": 32,
     "metadata": {},
     "output_type": "execute_result"
    }
   ],
   "source": [
    "df.groupby('Category')['Rating'].describe()"
   ]
  },
  {
   "cell_type": "code",
   "execution_count": 38,
   "id": "38ed6465-162f-43dc-8511-9b8788a0883d",
   "metadata": {},
   "outputs": [
    {
     "data": {
      "text/plain": [
       "Installs\n",
       "0.0    1\n",
       "Name: count, dtype: int64"
      ]
     },
     "execution_count": 38,
     "metadata": {},
     "output_type": "execute_result"
    }
   ],
   "source": [
    "df['Installs'].loc[df['Rating'].isnull()].value_counts()"
   ]
  },
  {
   "cell_type": "code",
   "execution_count": 48,
   "id": "1e15eb72-f864-4cca-80b8-e2f4ae02e4b3",
   "metadata": {},
   "outputs": [
    {
     "data": {
      "image/png": "[encoded data removed]",
      "text/plain": [
       "<Figure size 500x500 with 1 Axes>"
      ]
     },
     "metadata": {},
     "output_type": "display_data"
    },
    {
     "data": {
      "text/plain": [
       "<Figure size 1600x600 with 0 Axes>"
      ]
     },
     "metadata": {},
     "output_type": "display_data"
    }
   ],
   "source": [
    "import seaborn as sns\n",
    "import matplotlib.pyplot as plt\n",
    "\n",
    "# Replace 'Insatlls' with 'Installs'\n",
    "sns.lmplot(x='Reviews', y='Installs', data=df)\n",
    "\n",
    "plt.figure(figsize=(16, 6))\n",
    "plt.show()"
   ]
  },
  {
   "cell_type": "code",
   "execution_count": 52,
   "id": "6df1d232-6e65-43d1-b2da-aec7caddabdb",
   "metadata": {},
   "outputs": [
    {
     "data": {
      "text/plain": [
       "Category\n",
       "FAMILY             1972\n",
       "GAME               1144\n",
       "TOOLS               843\n",
       "MEDICAL             463\n",
       "BUSINESS            460\n",
       "PRODUCTIVITY        424\n",
       "PERSONALIZATION     392\n",
       "COMMUNICATION       387\n",
       "SPORTS              384\n",
       "LIFESTYLE           382\n",
       "Name: count, dtype: int64"
      ]
     },
     "execution_count": 52,
     "metadata": {},
     "output_type": "execute_result"
    }
   ],
   "source": [
    "#which category had the highest number of the app\n",
    "df['Category'].value_counts().head(10)"
   ]
  },
  {
   "cell_type": "code",
   "execution_count": 54,
   "id": "fdb2b721-8680-441f-b5c9-d030a0e89ee3",
   "metadata": {},
   "outputs": [
    {
     "data": {
      "text/plain": [
       "Category\n",
       "1.9                    0.0\n",
       "PHOTOGRAPHY            0.0\n",
       "LIFESTYLE              0.0\n",
       "MAPS_AND_NAVIGATION    0.0\n",
       "MEDICAL                0.0\n",
       "NEWS_AND_MAGAZINES     0.0\n",
       "PARENTING              0.0\n",
       "PERSONALIZATION        0.0\n",
       "PRODUCTIVITY           0.0\n",
       "ART_AND_DESIGN         0.0\n",
       "Name: Installs, dtype: float64"
      ]
     },
     "execution_count": 54,
     "metadata": {},
     "output_type": "execute_result"
    }
   ],
   "source": [
    "#which category has the highest number of Installs?\n",
    "df.groupby('Category')['Installs'].sum().sort_values(ascending=False).head(10)"
   ]
  },
  {
   "cell_type": "code",
   "execution_count": 58,
   "id": "b540cfc8-496f-458b-8379-088065015ac2",
   "metadata": {},
   "outputs": [
    {
     "data": {
      "text/plain": [
       "Category\n",
       "GAME               1.585422e+09\n",
       "COMMUNICATION      8.154623e+08\n",
       "SOCIAL             6.212414e+08\n",
       "FAMILY             4.102263e+08\n",
       "TOOLS              2.731850e+08\n",
       "PHOTOGRAPHY        2.135166e+08\n",
       "SHOPPING           1.150412e+08\n",
       "PRODUCTIVITY       1.141170e+08\n",
       "VIDEO_PLAYERS      1.103802e+08\n",
       "PERSONALIZATION    8.934614e+07\n",
       "Name: Reviews, dtype: float64"
      ]
     },
     "execution_count": 58,
     "metadata": {},
     "output_type": "execute_result"
    }
   ],
   "source": [
    "#which category has the highest number of reviews?\n",
    "df.groupby('Category')['Reviews'].sum().sort_values(ascending=False).head(10)"
   ]
  },
  {
   "cell_type": "code",
   "execution_count": 60,
   "id": "197cf33a-7b09-4c4b-b277-9db3de21cfb1",
   "metadata": {},
   "outputs": [
    {
     "data": {
      "text/plain": [
       "Category\n",
       "1.9                    19.000000\n",
       "EVENTS                  4.435556\n",
       "EDUCATION               4.389032\n",
       "ART_AND_DESIGN          4.358065\n",
       "BOOKS_AND_REFERENCE     4.346067\n",
       "PERSONALIZATION         4.335987\n",
       "PARENTING               4.300000\n",
       "GAME                    4.286326\n",
       "BEAUTY                  4.278571\n",
       "HEALTH_AND_FITNESS      4.277104\n",
       "Name: Rating, dtype: float64"
      ]
     },
     "execution_count": 60,
     "metadata": {},
     "output_type": "execute_result"
    }
   ],
   "source": [
    "#which category has the highest rating?\n",
    "df.groupby('Category')['Rating'].mean().sort_values(ascending=False).head(10)"
   ]
  },
  {
   "cell_type": "code",
   "execution_count": 64,
   "id": "d6695b35-ee18-45ec-a602-56fae122c40b",
   "metadata": {},
   "outputs": [
    {
     "name": "stderr",
     "output_type": "stream",
     "text": [
      "C:\\Users\\abish\\AppData\\Local\\Temp\\ipykernel_10532\\2766447995.py:2: FutureWarning: \n",
      "\n",
      "`shade` is now deprecated in favor of `fill`; setting `fill=True`.\n",
      "This will become an error in seaborn v0.14.0; please update your code.\n",
      "\n",
      "  sns.kdeplot(df['Rating'], color='blue', shade=True)\n"
     ]
    },
    {
     "data": {
      "image/png": "[encoded data removed]",
      "text/plain": [
       "<Figure size 1600x600 with 1 Axes>"
      ]
     },
     "metadata": {},
     "output_type": "display_data"
    }
   ],
   "source": [
    "plt.figure(figsize=(16,6))\n",
    "sns.kdeplot(df['Rating'], color='blue', shade=True)\n",
    "plt.show()"
   ]
  },
  {
   "cell_type": "code",
   "execution_count": 98,
   "id": "d89e4290-56c2-4acf-9fc7-9276bea35bcc",
   "metadata": {},
   "outputs": [
    {
     "data": {
      "text/plain": [
       "Content Rating\n",
       "Everyone           8714\n",
       "Teen               1208\n",
       "Mature 17+          499\n",
       "Everyone 10+        414\n",
       "Adults only 18+       3\n",
       "Unrated               2\n",
       "Name: count, dtype: int64"
      ]
     },
     "execution_count": 98,
     "metadata": {},
     "output_type": "execute_result"
    }
   ],
   "source": [
    "#which type has the highest Installs\n",
    "df['Content Rating'].value_counts()"
   ]
  },
  {
   "cell_type": "code",
   "execution_count": 102,
   "id": "c5080909-c848-489b-abcc-550f7553bc1e",
   "metadata": {},
   "outputs": [
    {
     "data": {
      "text/plain": [
       "Category\n",
       "FAMILY                 1529\n",
       "TOOLS                   835\n",
       "GAME                    608\n",
       "BUSINESS                445\n",
       "MEDICAL                 442\n",
       "PRODUCTIVITY            413\n",
       "FINANCE                 361\n",
       "LIFESTYLE               345\n",
       "COMMUNICATION           345\n",
       "SPORTS                  338\n",
       "PERSONALIZATION         322\n",
       "PHOTOGRAPHY             318\n",
       "HEALTH_AND_FITNESS      307\n",
       "TRAVEL_AND_LOCAL        251\n",
       "SHOPPING                208\n",
       "BOOKS_AND_REFERENCE     202\n",
       "NEWS_AND_MAGAZINES      169\n",
       "VIDEO_PLAYERS           146\n",
       "EDUCATION               144\n",
       "MAPS_AND_NAVIGATION     133\n",
       "FOOD_AND_DRINK          117\n",
       "SOCIAL                  101\n",
       "HOUSE_AND_HOME           86\n",
       "LIBRARIES_AND_DEMO       85\n",
       "AUTO_AND_VEHICLES        83\n",
       "WEATHER                  78\n",
       "ART_AND_DESIGN           61\n",
       "PARENTING                58\n",
       "EVENTS                   53\n",
       "BEAUTY                   45\n",
       "ENTERTAINMENT            39\n",
       "COMICS                   26\n",
       "DATING                   21\n",
       "Name: count, dtype: int64"
      ]
     },
     "execution_count": 102,
     "metadata": {},
     "output_type": "execute_result"
    }
   ],
   "source": [
    "#which category the content rating for everyone?\n",
    "df['Category'].loc[df['Content Rating']=='Everyone'].value_counts()"
   ]
  },
  {
   "cell_type": "code",
   "execution_count": 120,
   "id": "74c56e00-cfff-47c6-acd5-870fc5b87244",
   "metadata": {},
   "outputs": [
    {
     "data": {
      "text/html": [
       "<div>\n",
       "<style scoped>\n",
       "    .dataframe tbody tr th:only-of-type {\n",
       "        vertical-align: middle;\n",
       "    }\n",
       "\n",
       "    .dataframe tbody tr th {\n",
       "        vertical-align: top;\n",
       "    }\n",
       "\n",
       "    .dataframe thead th {\n",
       "        text-align: right;\n",
       "    }\n",
       "</style>\n",
       "<table border=\"1\" class=\"dataframe\">\n",
       "  <thead>\n",
       "    <tr style=\"text-align: right;\">\n",
       "      <th></th>\n",
       "      <th>App</th>\n",
       "      <th>Category</th>\n",
       "      <th>Rating</th>\n",
       "      <th>Reviews</th>\n",
       "      <th>Size</th>\n",
       "      <th>Installs</th>\n",
       "      <th>Type</th>\n",
       "      <th>Price</th>\n",
       "      <th>Content Rating</th>\n",
       "      <th>Genres</th>\n",
       "      <th>Last Updated</th>\n",
       "      <th>Current Ver</th>\n",
       "      <th>Android Ver</th>\n",
       "    </tr>\n",
       "  </thead>\n",
       "  <tbody>\n",
       "    <tr>\n",
       "      <th>5260</th>\n",
       "      <td>AJ Gray Dark Icon Pack</td>\n",
       "      <td>PERSONALIZATION</td>\n",
       "      <td>5.0</td>\n",
       "      <td>2.0</td>\n",
       "      <td>35M</td>\n",
       "      <td>NaN</td>\n",
       "      <td>Paid</td>\n",
       "      <td>$0.99</td>\n",
       "      <td>Everyone</td>\n",
       "      <td>Personalization</td>\n",
       "      <td>April 29, 2018</td>\n",
       "      <td>1.1</td>\n",
       "      <td>4.1 and up</td>\n",
       "    </tr>\n",
       "    <tr>\n",
       "      <th>8287</th>\n",
       "      <td>AC DC Power Monitor</td>\n",
       "      <td>LIFESTYLE</td>\n",
       "      <td>5.0</td>\n",
       "      <td>1.0</td>\n",
       "      <td>1.2M</td>\n",
       "      <td>NaN</td>\n",
       "      <td>Paid</td>\n",
       "      <td>$3.04</td>\n",
       "      <td>Everyone</td>\n",
       "      <td>Lifestyle</td>\n",
       "      <td>May 29, 2016</td>\n",
       "      <td>1.2</td>\n",
       "      <td>2.3 and up</td>\n",
       "    </tr>\n",
       "    <tr>\n",
       "      <th>9010</th>\n",
       "      <td>RETRO Shocked DW-6000</td>\n",
       "      <td>PERSONALIZATION</td>\n",
       "      <td>5.0</td>\n",
       "      <td>13.0</td>\n",
       "      <td>500k</td>\n",
       "      <td>NaN</td>\n",
       "      <td>Paid</td>\n",
       "      <td>$1.49</td>\n",
       "      <td>Everyone</td>\n",
       "      <td>Personalization</td>\n",
       "      <td>April 4, 2017</td>\n",
       "      <td>1.2</td>\n",
       "      <td>2.3 and up</td>\n",
       "    </tr>\n",
       "    <tr>\n",
       "      <th>5917</th>\n",
       "      <td>Ra Ga Ba</td>\n",
       "      <td>GAME</td>\n",
       "      <td>5.0</td>\n",
       "      <td>2.0</td>\n",
       "      <td>20M</td>\n",
       "      <td>NaN</td>\n",
       "      <td>Paid</td>\n",
       "      <td>$1.49</td>\n",
       "      <td>Everyone</td>\n",
       "      <td>Arcade</td>\n",
       "      <td>February 8, 2017</td>\n",
       "      <td>1.0.4</td>\n",
       "      <td>2.3 and up</td>\n",
       "    </tr>\n",
       "    <tr>\n",
       "      <th>5966</th>\n",
       "      <td>BC MVA Fines</td>\n",
       "      <td>BOOKS_AND_REFERENCE</td>\n",
       "      <td>5.0</td>\n",
       "      <td>5.0</td>\n",
       "      <td>7.2M</td>\n",
       "      <td>NaN</td>\n",
       "      <td>Paid</td>\n",
       "      <td>$1.75</td>\n",
       "      <td>Everyone</td>\n",
       "      <td>Books &amp; Reference</td>\n",
       "      <td>October 8, 2015</td>\n",
       "      <td>1.0</td>\n",
       "      <td>4.1 and up</td>\n",
       "    </tr>\n",
       "  </tbody>\n",
       "</table>\n",
       "</div>"
      ],
      "text/plain": [
       "                         App             Category  Rating  Reviews  Size  \\\n",
       "5260  AJ Gray Dark Icon Pack      PERSONALIZATION     5.0      2.0   35M   \n",
       "8287     AC DC Power Monitor            LIFESTYLE     5.0      1.0  1.2M   \n",
       "9010   RETRO Shocked DW-6000      PERSONALIZATION     5.0     13.0  500k   \n",
       "5917                Ra Ga Ba                 GAME     5.0      2.0   20M   \n",
       "5966            BC MVA Fines  BOOKS_AND_REFERENCE     5.0      5.0  7.2M   \n",
       "\n",
       "      Installs  Type  Price Content Rating             Genres  \\\n",
       "5260       NaN  Paid  $0.99       Everyone    Personalization   \n",
       "8287       NaN  Paid  $3.04       Everyone          Lifestyle   \n",
       "9010       NaN  Paid  $1.49       Everyone    Personalization   \n",
       "5917       NaN  Paid  $1.49       Everyone             Arcade   \n",
       "5966       NaN  Paid  $1.75       Everyone  Books & Reference   \n",
       "\n",
       "          Last Updated Current Ver Android Ver  \n",
       "5260    April 29, 2018         1.1  4.1 and up  \n",
       "8287      May 29, 2016         1.2  2.3 and up  \n",
       "9010     April 4, 2017         1.2  2.3 and up  \n",
       "5917  February 8, 2017       1.0.4  2.3 and up  \n",
       "5966   October 8, 2015         1.0  4.1 and up  "
      ]
     },
     "execution_count": 120,
     "metadata": {},
     "output_type": "execute_result"
    }
   ],
   "source": [
    "df[df['Type']=='Paid'].sort_values(by='Rating',ascending=False).head(5)"
   ]
  },
  {
   "cell_type": "code",
   "execution_count": 112,
   "id": "c6068d56-4064-4dea-9162-ca3138166cea",
   "metadata": {},
   "outputs": [
    {
     "data": {
      "image/png": "[encoded data removed]",
      "text/plain": [
       "<Figure size 1600x600 with 1 Axes>"
      ]
     },
     "metadata": {},
     "output_type": "display_data"
    }
   ],
   "source": [
    "#which top 5 apps are the free?\n",
    "plt.figure(figsize=(16,6))\n",
    "sns.barplot(x='App', y='Rating', data=df[df['Type'] == 'Free'].sort_values(by='Rating', ascending=False).head(5))\n",
    "plt.show()"
   ]
  },
  {
   "cell_type": "code",
   "execution_count": 114,
   "id": "0d05d3f7-9154-4be0-816e-11b1557d5bb8",
   "metadata": {},
   "outputs": [
    {
     "data": {
      "text/html": [
       "<div>\n",
       "<style scoped>\n",
       "    .dataframe tbody tr th:only-of-type {\n",
       "        vertical-align: middle;\n",
       "    }\n",
       "\n",
       "    .dataframe tbody tr th {\n",
       "        vertical-align: top;\n",
       "    }\n",
       "\n",
       "    .dataframe thead th {\n",
       "        text-align: right;\n",
       "    }\n",
       "</style>\n",
       "<table border=\"1\" class=\"dataframe\">\n",
       "  <thead>\n",
       "    <tr style=\"text-align: right;\">\n",
       "      <th></th>\n",
       "      <th>App</th>\n",
       "      <th>Category</th>\n",
       "      <th>Rating</th>\n",
       "      <th>Reviews</th>\n",
       "      <th>Size</th>\n",
       "      <th>Installs</th>\n",
       "      <th>Type</th>\n",
       "      <th>Price</th>\n",
       "      <th>Content Rating</th>\n",
       "      <th>Genres</th>\n",
       "      <th>Last Updated</th>\n",
       "      <th>Current Ver</th>\n",
       "      <th>Android Ver</th>\n",
       "    </tr>\n",
       "  </thead>\n",
       "  <tbody>\n",
       "    <tr>\n",
       "      <th>5268</th>\n",
       "      <td>AJ Rafael Music Lessons</td>\n",
       "      <td>FAMILY</td>\n",
       "      <td>5.0</td>\n",
       "      <td>1.0</td>\n",
       "      <td>8.2M</td>\n",
       "      <td>NaN</td>\n",
       "      <td>Free</td>\n",
       "      <td>0</td>\n",
       "      <td>Everyone</td>\n",
       "      <td>Entertainment</td>\n",
       "      <td>November 29, 2017</td>\n",
       "      <td>1.2.1</td>\n",
       "      <td>4.1 and up</td>\n",
       "    </tr>\n",
       "    <tr>\n",
       "      <th>640</th>\n",
       "      <td>Online Girls Chat Group</td>\n",
       "      <td>DATING</td>\n",
       "      <td>5.0</td>\n",
       "      <td>5.0</td>\n",
       "      <td>5.0M</td>\n",
       "      <td>NaN</td>\n",
       "      <td>Free</td>\n",
       "      <td>0</td>\n",
       "      <td>Mature 17+</td>\n",
       "      <td>Dating</td>\n",
       "      <td>August 2, 2018</td>\n",
       "      <td>8.2</td>\n",
       "      <td>4.0.3 and up</td>\n",
       "    </tr>\n",
       "    <tr>\n",
       "      <th>8102</th>\n",
       "      <td>Cy-Fair VFD EMS Protocols</td>\n",
       "      <td>MEDICAL</td>\n",
       "      <td>5.0</td>\n",
       "      <td>2.0</td>\n",
       "      <td>20M</td>\n",
       "      <td>NaN</td>\n",
       "      <td>Free</td>\n",
       "      <td>0</td>\n",
       "      <td>Everyone 10+</td>\n",
       "      <td>Medical</td>\n",
       "      <td>September 21, 2017</td>\n",
       "      <td>1.8.3</td>\n",
       "      <td>4.1 and up</td>\n",
       "    </tr>\n",
       "    <tr>\n",
       "      <th>8104</th>\n",
       "      <td>Cy-Fair Christian Church</td>\n",
       "      <td>LIFESTYLE</td>\n",
       "      <td>5.0</td>\n",
       "      <td>2.0</td>\n",
       "      <td>9.3M</td>\n",
       "      <td>NaN</td>\n",
       "      <td>Free</td>\n",
       "      <td>0</td>\n",
       "      <td>Everyone</td>\n",
       "      <td>Lifestyle</td>\n",
       "      <td>August 3, 2017</td>\n",
       "      <td>24.8.1</td>\n",
       "      <td>4.1 and up</td>\n",
       "    </tr>\n",
       "    <tr>\n",
       "      <th>8146</th>\n",
       "      <td>CZ-Help</td>\n",
       "      <td>BOOKS_AND_REFERENCE</td>\n",
       "      <td>5.0</td>\n",
       "      <td>2.0</td>\n",
       "      <td>1.4M</td>\n",
       "      <td>NaN</td>\n",
       "      <td>Free</td>\n",
       "      <td>0</td>\n",
       "      <td>Everyone</td>\n",
       "      <td>Books &amp; Reference</td>\n",
       "      <td>July 13, 2018</td>\n",
       "      <td>0.1</td>\n",
       "      <td>4.4 and up</td>\n",
       "    </tr>\n",
       "  </tbody>\n",
       "</table>\n",
       "</div>"
      ],
      "text/plain": [
       "                            App             Category  Rating  Reviews  Size  \\\n",
       "5268    AJ Rafael Music Lessons               FAMILY     5.0      1.0  8.2M   \n",
       "640     Online Girls Chat Group               DATING     5.0      5.0  5.0M   \n",
       "8102  Cy-Fair VFD EMS Protocols              MEDICAL     5.0      2.0   20M   \n",
       "8104   Cy-Fair Christian Church            LIFESTYLE     5.0      2.0  9.3M   \n",
       "8146                    CZ-Help  BOOKS_AND_REFERENCE     5.0      2.0  1.4M   \n",
       "\n",
       "      Installs  Type Price Content Rating             Genres  \\\n",
       "5268       NaN  Free     0       Everyone      Entertainment   \n",
       "640        NaN  Free     0     Mature 17+             Dating   \n",
       "8102       NaN  Free     0   Everyone 10+            Medical   \n",
       "8104       NaN  Free     0       Everyone          Lifestyle   \n",
       "8146       NaN  Free     0       Everyone  Books & Reference   \n",
       "\n",
       "            Last Updated Current Ver   Android Ver  \n",
       "5268   November 29, 2017       1.2.1    4.1 and up  \n",
       "640       August 2, 2018         8.2  4.0.3 and up  \n",
       "8102  September 21, 2017       1.8.3    4.1 and up  \n",
       "8104      August 3, 2017      24.8.1    4.1 and up  \n",
       "8146       July 13, 2018         0.1    4.4 and up  "
      ]
     },
     "execution_count": 114,
     "metadata": {},
     "output_type": "execute_result"
    }
   ],
   "source": [
    "df[df['Type']=='Free'].sort_values(by='Rating',ascending=False).head(5)"
   ]
  },
  {
   "cell_type": "code",
   "execution_count": 116,
   "id": "2b1e3845-d88c-40b3-b306-4442df9a90a8",
   "metadata": {},
   "outputs": [
    {
     "data": {
      "image/png": "[encoded data removed]",
      "text/plain": [
       "<Figure size 1600x600 with 1 Axes>"
      ]
     },
     "metadata": {},
     "output_type": "display_data"
    }
   ],
   "source": [
    "#which top 5 free apps in terms of reviews\n",
    "plt.figure(figsize=(16,6))\n",
    "sns.barplot(x='App', y='Reviews', data=df[df['Type'] == 'Free'].sort_values(by='Reviews', ascending=False).head(5))\n",
    "plt.show()\n"
   ]
  },
  {
   "cell_type": "code",
   "execution_count": 118,
   "id": "2ac6cbca-fa73-4d91-8515-ceb12abe4394",
   "metadata": {},
   "outputs": [
    {
     "data": {
      "text/plain": [
       "<Axes: xlabel='App', ylabel='Reviews'>"
      ]
     },
     "execution_count": 118,
     "metadata": {},
     "output_type": "execute_result"
    },
    {
     "data": {
      "image/png": "[encoded data removed]",
      "text/plain": [
       "<Figure size 1600x600 with 1 Axes>"
      ]
     },
     "metadata": {},
     "output_type": "display_data"
    }
   ],
   "source": [
    "#which top 5 paid apps in terms of reviews?\n",
    "plt.figure(figsize=(16,6))\n",
    "sns.barplot(x='App',y='Reviews',data=df[df['Type']=='Paid'].sort_values(by='Reviews',ascending=False).head(5))"
   ]
  },
  {
   "cell_type": "code",
   "execution_count": null,
   "id": "7c05ebaf-b530-411f-9757-0c8a4adb31ee",
   "metadata": {},
   "outputs": [],
   "source": []
  }
 ],
 "metadata": {
  "kernelspec": {
   "display_name": "Python 3 (ipykernel)",
   "language": "python",
   "name": "python3"
  },
  "language_info": {
   "codemirror_mode": {
    "name": "ipython",
    "version": 3
   },
   "file_extension": ".py",
   "mimetype": "text/x-python",
   "name": "python",
   "nbconvert_exporter": "python",
   "pygments_lexer": "ipython3",
   "version": "3.12.4"
  }
 },
 "nbformat": 4,
 "nbformat_minor": 5
}
